{
 "cells": [
  {
   "cell_type": "code",
   "execution_count": 1,
   "metadata": {},
   "outputs": [],
   "source": [
    "import tensorflow as tf"
   ]
  },
  {
   "cell_type": "code",
   "execution_count": 77,
   "metadata": {},
   "outputs": [],
   "source": [
    "import pandas as pd\n",
    "import numpy as np"
   ]
  },
  {
   "cell_type": "code",
   "execution_count": 78,
   "metadata": {},
   "outputs": [],
   "source": [
    "df1 = pd.read_csv(\"SA _Tourism.csv\")"
   ]
  },
  {
   "cell_type": "code",
   "execution_count": 79,
   "metadata": {},
   "outputs": [
    {
     "data": {
      "text/html": [
       "<div>\n",
       "<style scoped>\n",
       "    .dataframe tbody tr th:only-of-type {\n",
       "        vertical-align: middle;\n",
       "    }\n",
       "\n",
       "    .dataframe tbody tr th {\n",
       "        vertical-align: top;\n",
       "    }\n",
       "\n",
       "    .dataframe thead th {\n",
       "        text-align: right;\n",
       "    }\n",
       "</style>\n",
       "<table border=\"1\" class=\"dataframe\">\n",
       "  <thead>\n",
       "    <tr style=\"text-align: right;\">\n",
       "      <th></th>\n",
       "      <th>text</th>\n",
       "      <th>Class</th>\n",
       "    </tr>\n",
       "  </thead>\n",
       "  <tbody>\n",
       "    <tr>\n",
       "      <th>0</th>\n",
       "      <td>Happy Sunday! â™¥ï¸\\nThanks my lovely @maxsev...</td>\n",
       "      <td>Memories with Family/Friends</td>\n",
       "    </tr>\n",
       "    <tr>\n",
       "      <th>1</th>\n",
       "      <td>Last day at the Swedish Nationals!\\n~ðŸ‡¸ðŸ‡ª~...</td>\n",
       "      <td>Memories with Family/Friends</td>\n",
       "    </tr>\n",
       "    <tr>\n",
       "      <th>2</th>\n",
       "      <td>Looking forward to accompany this awesome swed...</td>\n",
       "      <td>Memories with Family/Friends</td>\n",
       "    </tr>\n",
       "    <tr>\n",
       "      <th>3</th>\n",
       "      <td>Look closely and you will notice to of the mos...</td>\n",
       "      <td>Memories with Family/Friends</td>\n",
       "    </tr>\n",
       "    <tr>\n",
       "      <th>4</th>\n",
       "      <td>See you in one year Ã…rhus ðŸ’•\\n.\\nHappy to b...</td>\n",
       "      <td>Memories with Family/Friends</td>\n",
       "    </tr>\n",
       "  </tbody>\n",
       "</table>\n",
       "</div>"
      ],
      "text/plain": [
       "                                                text  \\\n",
       "0  Happy Sunday! â™¥ï¸\\nThanks my lovely @maxsev...   \n",
       "1  Last day at the Swedish Nationals!\\n~ðŸ‡¸ðŸ‡ª~...   \n",
       "2  Looking forward to accompany this awesome swed...   \n",
       "3  Look closely and you will notice to of the mos...   \n",
       "4  See you in one year Ã…rhus ðŸ’•\\n.\\nHappy to b...   \n",
       "\n",
       "                          Class  \n",
       "0  Memories with Family/Friends  \n",
       "1  Memories with Family/Friends  \n",
       "2  Memories with Family/Friends  \n",
       "3  Memories with Family/Friends  \n",
       "4  Memories with Family/Friends  "
      ]
     },
     "execution_count": 79,
     "metadata": {},
     "output_type": "execute_result"
    }
   ],
   "source": [
    "df1.head()"
   ]
  },
  {
   "cell_type": "code",
   "execution_count": 80,
   "metadata": {},
   "outputs": [
    {
     "data": {
      "text/plain": [
       "Fascinating Landscapes           2110\n",
       "Climate                          1139\n",
       "Memories with Family/Friends     1025\n",
       "Local People & Culture            962\n",
       "Local Cuisine                     755\n",
       "Outdoor Activities and Events     728\n",
       "History and Heritage              688\n",
       "Adventure                         553\n",
       "Luxurious Indulgence              312\n",
       "Break Away from Routine           265\n",
       "Name: Class, dtype: int64"
      ]
     },
     "execution_count": 80,
     "metadata": {},
     "output_type": "execute_result"
    }
   ],
   "source": [
    "df1['Class'].value_counts()"
   ]
  },
  {
   "cell_type": "code",
   "execution_count": 81,
   "metadata": {},
   "outputs": [],
   "source": [
    "from numpy import random\n",
    "import nltk\n",
    "from sklearn.model_selection import train_test_split\n",
    "from sklearn.feature_extraction.text import CountVectorizer, TfidfVectorizer\n",
    "from sklearn.metrics import accuracy_score, confusion_matrix\n",
    "import matplotlib.pyplot as plt\n",
    "from nltk.corpus import stopwords\n",
    "import re\n",
    "from bs4 import BeautifulSoup\n",
    "%matplotlib inline"
   ]
  },
  {
   "cell_type": "code",
   "execution_count": 82,
   "metadata": {},
   "outputs": [
    {
     "data": {
      "text/plain": [
       "(8537, 2)"
      ]
     },
     "execution_count": 82,
     "metadata": {},
     "output_type": "execute_result"
    }
   ],
   "source": [
    "df1.shape"
   ]
  },
  {
   "cell_type": "code",
   "execution_count": 83,
   "metadata": {},
   "outputs": [
    {
     "data": {
      "image/png": "[encoded data removed]",
      "text/plain": [
       "<Figure size 432x288 with 1 Axes>"
      ]
     },
     "metadata": {
      "needs_background": "light"
     },
     "output_type": "display_data"
    }
   ],
   "source": [
    "df1['Class'].value_counts().plot(kind='bar', color='red')\n",
    "plt.show()"
   ]
  },
  {
   "cell_type": "code",
   "execution_count": 84,
   "metadata": {},
   "outputs": [
    {
     "data": {
      "text/html": [
       "<div>\n",
       "<style scoped>\n",
       "    .dataframe tbody tr th:only-of-type {\n",
       "        vertical-align: middle;\n",
       "    }\n",
       "\n",
       "    .dataframe tbody tr th {\n",
       "        vertical-align: top;\n",
       "    }\n",
       "\n",
       "    .dataframe thead th {\n",
       "        text-align: right;\n",
       "    }\n",
       "</style>\n",
       "<table border=\"1\" class=\"dataframe\">\n",
       "  <thead>\n",
       "    <tr style=\"text-align: right;\">\n",
       "      <th></th>\n",
       "      <th>index</th>\n",
       "      <th>text</th>\n",
       "      <th>Class</th>\n",
       "    </tr>\n",
       "  </thead>\n",
       "  <tbody>\n",
       "    <tr>\n",
       "      <th>0</th>\n",
       "      <td>0</td>\n",
       "      <td>Happy Sunday! â™¥ï¸\\nThanks my lovely @maxsev...</td>\n",
       "      <td>Memories with Family/Friends</td>\n",
       "    </tr>\n",
       "    <tr>\n",
       "      <th>1</th>\n",
       "      <td>1</td>\n",
       "      <td>Last day at the Swedish Nationals!\\n~ðŸ‡¸ðŸ‡ª~...</td>\n",
       "      <td>Memories with Family/Friends</td>\n",
       "    </tr>\n",
       "    <tr>\n",
       "      <th>2</th>\n",
       "      <td>2</td>\n",
       "      <td>Looking forward to accompany this awesome swed...</td>\n",
       "      <td>Memories with Family/Friends</td>\n",
       "    </tr>\n",
       "    <tr>\n",
       "      <th>3</th>\n",
       "      <td>3</td>\n",
       "      <td>Look closely and you will notice to of the mos...</td>\n",
       "      <td>Memories with Family/Friends</td>\n",
       "    </tr>\n",
       "    <tr>\n",
       "      <th>4</th>\n",
       "      <td>4</td>\n",
       "      <td>See you in one year Ã…rhus ðŸ’•\\n.\\nHappy to b...</td>\n",
       "      <td>Memories with Family/Friends</td>\n",
       "    </tr>\n",
       "    <tr>\n",
       "      <th>5</th>\n",
       "      <td>5</td>\n",
       "      <td>Hei! Olemme tÃ¤ssÃ¤ kevÃ¤Ã¤n ja kesÃ¤n mittaan...</td>\n",
       "      <td>Memories with Family/Friends</td>\n",
       "    </tr>\n",
       "    <tr>\n",
       "      <th>6</th>\n",
       "      <td>6</td>\n",
       "      <td>One of our US dealers, Janne â€Fritzâ€ Eksta...</td>\n",
       "      <td>Memories with Family/Friends</td>\n",
       "    </tr>\n",
       "    <tr>\n",
       "      <th>7</th>\n",
       "      <td>7</td>\n",
       "      <td>Kenapa banyak ibu-ibu imigran, pengungsi, asin...</td>\n",
       "      <td>Memories with Family/Friends</td>\n",
       "    </tr>\n",
       "    <tr>\n",
       "      <th>8</th>\n",
       "      <td>8</td>\n",
       "      <td>Kenapa banyak ibu-ibu imigran, pengungsi, asin...</td>\n",
       "      <td>Memories with Family/Friends</td>\n",
       "    </tr>\n",
       "    <tr>\n",
       "      <th>9</th>\n",
       "      <td>9</td>\n",
       "      <td>Condition check after travelling and training....</td>\n",
       "      <td>Memories with Family/Friends</td>\n",
       "    </tr>\n",
       "    <tr>\n",
       "      <th>10</th>\n",
       "      <td>10</td>\n",
       "      <td>We inspire our kids to create and innovate! Ch...</td>\n",
       "      <td>Memories with Family/Friends</td>\n",
       "    </tr>\n",
       "    <tr>\n",
       "      <th>11</th>\n",
       "      <td>11</td>\n",
       "      <td>Friends - the German edition of my cookbook is...</td>\n",
       "      <td>Memories with Family/Friends</td>\n",
       "    </tr>\n",
       "    <tr>\n",
       "      <th>12</th>\n",
       "      <td>12</td>\n",
       "      <td>Sightseeing in Oslo before leaving Norway behi...</td>\n",
       "      <td>Memories with Family/Friends</td>\n",
       "    </tr>\n",
       "    <tr>\n",
       "      <th>13</th>\n",
       "      <td>13</td>\n",
       "      <td>Stefan following his uncle and we are all foll...</td>\n",
       "      <td>Memories with Family/Friends</td>\n",
       "    </tr>\n",
       "    <tr>\n",
       "      <th>14</th>\n",
       "      <td>14</td>\n",
       "      <td>Meet Scarlett and her WAR ON WASTEðŸš¯\\nWe inv...</td>\n",
       "      <td>Memories with Family/Friends</td>\n",
       "    </tr>\n",
       "    <tr>\n",
       "      <th>15</th>\n",
       "      <td>15</td>\n",
       "      <td>International friends! ðŸ‡©ðŸ‡° ðŸ‡±ðŸ‡¹ ðŸ‡³ð...</td>\n",
       "      <td>Memories with Family/Friends</td>\n",
       "    </tr>\n",
       "    <tr>\n",
       "      <th>16</th>\n",
       "      <td>16</td>\n",
       "      <td>Came back to Marjamaa Familyâ£ï¸ Met again w...</td>\n",
       "      <td>Memories with Family/Friends</td>\n",
       "    </tr>\n",
       "    <tr>\n",
       "      <th>17</th>\n",
       "      <td>17</td>\n",
       "      <td>Reunion with my San Francisco family ðŸ‘ŒðŸ˜ð...</td>\n",
       "      <td>Memories with Family/Friends</td>\n",
       "    </tr>\n",
       "    <tr>\n",
       "      <th>18</th>\n",
       "      <td>18</td>\n",
       "      <td>I've never personally entered any competitions...</td>\n",
       "      <td>Memories with Family/Friends</td>\n",
       "    </tr>\n",
       "    <tr>\n",
       "      <th>19</th>\n",
       "      <td>19</td>\n",
       "      <td>Wanderlust consumed her, \\nForeign hearts \\nan...</td>\n",
       "      <td>Memories with Family/Friends</td>\n",
       "    </tr>\n",
       "    <tr>\n",
       "      <th>20</th>\n",
       "      <td>20</td>\n",
       "      <td>Missing #stockholm\\nMissing #sweden \\nMissing ...</td>\n",
       "      <td>Memories with Family/Friends</td>\n",
       "    </tr>\n",
       "    <tr>\n",
       "      <th>21</th>\n",
       "      <td>21</td>\n",
       "      <td>Good friends trainining and fight together @vi...</td>\n",
       "      <td>Memories with Family/Friends</td>\n",
       "    </tr>\n",
       "    <tr>\n",
       "      <th>22</th>\n",
       "      <td>22</td>\n",
       "      <td>Together again #international #friendship #lik...</td>\n",
       "      <td>Memories with Family/Friends</td>\n",
       "    </tr>\n",
       "    <tr>\n",
       "      <th>23</th>\n",
       "      <td>23</td>\n",
       "      <td>Meet Scarlett and her WAR ON WASTE\\nWe invite ...</td>\n",
       "      <td>Memories with Family/Friends</td>\n",
       "    </tr>\n",
       "    <tr>\n",
       "      <th>24</th>\n",
       "      <td>24</td>\n",
       "      <td>On this day, 20 something years ago ðŸ˜œ, a ba...</td>\n",
       "      <td>Memories with Family/Friends</td>\n",
       "    </tr>\n",
       "    <tr>\n",
       "      <th>25</th>\n",
       "      <td>25</td>\n",
       "      <td>Civitavecchia port year 2013 statue of The kis...</td>\n",
       "      <td>Memories with Family/Friends</td>\n",
       "    </tr>\n",
       "    <tr>\n",
       "      <th>26</th>\n",
       "      <td>26</td>\n",
       "      <td>HERE IS AT WEEK FOR BAKKEN â€¢\\nWe bring you t...</td>\n",
       "      <td>Memories with Family/Friends</td>\n",
       "    </tr>\n",
       "    <tr>\n",
       "      <th>27</th>\n",
       "      <td>27</td>\n",
       "      <td>In the last nine days, we visited three differ...</td>\n",
       "      <td>Memories with Family/Friends</td>\n",
       "    </tr>\n",
       "    <tr>\n",
       "      <th>28</th>\n",
       "      <td>28</td>\n",
       "      <td>\"In one hospital I visited in north Yemen, the...</td>\n",
       "      <td>Memories with Family/Friends</td>\n",
       "    </tr>\n",
       "    <tr>\n",
       "      <th>29</th>\n",
       "      <td>29</td>\n",
       "      <td>baby brother. how i love you! \\n__________\\n#t...</td>\n",
       "      <td>Memories with Family/Friends</td>\n",
       "    </tr>\n",
       "    <tr>\n",
       "      <th>...</th>\n",
       "      <td>...</td>\n",
       "      <td>...</td>\n",
       "      <td>...</td>\n",
       "    </tr>\n",
       "    <tr>\n",
       "      <th>8478</th>\n",
       "      <td>8507</td>\n",
       "      <td>On #Facebook: Morning at the City of Gold Coas...</td>\n",
       "      <td>Fascinating Landscapes</td>\n",
       "    </tr>\n",
       "    <tr>\n",
       "      <th>8479</th>\n",
       "      <td>8508</td>\n",
       "      <td>Finland beach? Yes, it isðŸ‡«ðŸ‡®â˜ºï¸\\n#finl...</td>\n",
       "      <td>Fascinating Landscapes</td>\n",
       "    </tr>\n",
       "    <tr>\n",
       "      <th>8480</th>\n",
       "      <td>8509</td>\n",
       "      <td>Have you been to Fort Aquada during sunset? ðŸ...</td>\n",
       "      <td>Fascinating Landscapes</td>\n",
       "    </tr>\n",
       "    <tr>\n",
       "      <th>8481</th>\n",
       "      <td>8510</td>\n",
       "      <td>Im leaving Denmark and i have no returning tic...</td>\n",
       "      <td>Fascinating Landscapes</td>\n",
       "    </tr>\n",
       "    <tr>\n",
       "      <th>8482</th>\n",
       "      <td>8511</td>\n",
       "      <td>Day trip to #SwedenðŸ‡¸ðŸ‡ª\\nâ€¢\\nâ€¢\\n#americ...</td>\n",
       "      <td>Fascinating Landscapes</td>\n",
       "    </tr>\n",
       "    <tr>\n",
       "      <th>8483</th>\n",
       "      <td>8512</td>\n",
       "      <td>Lifeguard Surfboard On The Beach https://t.co/...</td>\n",
       "      <td>Fascinating Landscapes</td>\n",
       "    </tr>\n",
       "    <tr>\n",
       "      <th>8484</th>\n",
       "      <td>8513</td>\n",
       "      <td>One of mine: Lifeguard Surfboard On The Beach ...</td>\n",
       "      <td>Fascinating Landscapes</td>\n",
       "    </tr>\n",
       "    <tr>\n",
       "      <th>8485</th>\n",
       "      <td>8514</td>\n",
       "      <td>Viking ship replicas are one of the more commo...</td>\n",
       "      <td>Fascinating Landscapes</td>\n",
       "    </tr>\n",
       "    <tr>\n",
       "      <th>8486</th>\n",
       "      <td>8515</td>\n",
       "      <td>Photography: Curvy Road To The Mountains https...</td>\n",
       "      <td>Fascinating Landscapes</td>\n",
       "    </tr>\n",
       "    <tr>\n",
       "      <th>8487</th>\n",
       "      <td>8516</td>\n",
       "      <td>#photooftheday #photographer #photography #pho...</td>\n",
       "      <td>Fascinating Landscapes</td>\n",
       "    </tr>\n",
       "    <tr>\n",
       "      <th>8488</th>\n",
       "      <td>8517</td>\n",
       "      <td>Described as Slo Mo/ Edits/ Disco scene's heav...</td>\n",
       "      <td>Fascinating Landscapes</td>\n",
       "    </tr>\n",
       "    <tr>\n",
       "      <th>8489</th>\n",
       "      <td>8518</td>\n",
       "      <td>What about this: Branch On The Beach at @picfa...</td>\n",
       "      <td>Fascinating Landscapes</td>\n",
       "    </tr>\n",
       "    <tr>\n",
       "      <th>8490</th>\n",
       "      <td>8519</td>\n",
       "      <td>Bali eventually fulfiling expectations at Jimb...</td>\n",
       "      <td>Fascinating Landscapes</td>\n",
       "    </tr>\n",
       "    <tr>\n",
       "      <th>8491</th>\n",
       "      <td>8520</td>\n",
       "      <td>Do you need money? Who doesn't? Do you want to...</td>\n",
       "      <td>Fascinating Landscapes</td>\n",
       "    </tr>\n",
       "    <tr>\n",
       "      <th>8492</th>\n",
       "      <td>8521</td>\n",
       "      <td>One of mine: Australian Beach Sunset @photocro...</td>\n",
       "      <td>Fascinating Landscapes</td>\n",
       "    </tr>\n",
       "    <tr>\n",
       "      <th>8493</th>\n",
       "      <td>8522</td>\n",
       "      <td>#photography Sunset in Caloundra. https://t.co...</td>\n",
       "      <td>Fascinating Landscapes</td>\n",
       "    </tr>\n",
       "    <tr>\n",
       "      <th>8494</th>\n",
       "      <td>8523</td>\n",
       "      <td>Easy Island Life in #KohMak https://t.co/KGZ2M...</td>\n",
       "      <td>Fascinating Landscapes</td>\n",
       "    </tr>\n",
       "    <tr>\n",
       "      <th>8495</th>\n",
       "      <td>8524</td>\n",
       "      <td>Two Rocks On A Beach https://t.co/Oak2W8E8dp v...</td>\n",
       "      <td>Fascinating Landscapes</td>\n",
       "    </tr>\n",
       "    <tr>\n",
       "      <th>8496</th>\n",
       "      <td>8525</td>\n",
       "      <td>Chilled day spent on exploring Koh Phangan on ...</td>\n",
       "      <td>Fascinating Landscapes</td>\n",
       "    </tr>\n",
       "    <tr>\n",
       "      <th>8497</th>\n",
       "      <td>8526</td>\n",
       "      <td>Williams GAC Pindar shuts out champion to win ...</td>\n",
       "      <td>Fascinating Landscapes</td>\n",
       "    </tr>\n",
       "    <tr>\n",
       "      <th>8498</th>\n",
       "      <td>8527</td>\n",
       "      <td>A beautiful sunset colors the tall buildings b...</td>\n",
       "      <td>Fascinating Landscapes</td>\n",
       "    </tr>\n",
       "    <tr>\n",
       "      <th>8499</th>\n",
       "      <td>8528</td>\n",
       "      <td>Seagulls On The Beach https://t.co/je1DsUFysk ...</td>\n",
       "      <td>Fascinating Landscapes</td>\n",
       "    </tr>\n",
       "    <tr>\n",
       "      <th>8500</th>\n",
       "      <td>8529</td>\n",
       "      <td>The low tide brings out the rocks on a sandy b...</td>\n",
       "      <td>Fascinating Landscapes</td>\n",
       "    </tr>\n",
       "    <tr>\n",
       "      <th>8501</th>\n",
       "      <td>8530</td>\n",
       "      <td>And another one: Pandanus On The Bulcock Beach...</td>\n",
       "      <td>Fascinating Landscapes</td>\n",
       "    </tr>\n",
       "    <tr>\n",
       "      <th>8502</th>\n",
       "      <td>8531</td>\n",
       "      <td>ðŸ“·ðŸ—º #abudhabi #photo #travel #amazing #du...</td>\n",
       "      <td>Fascinating Landscapes</td>\n",
       "    </tr>\n",
       "    <tr>\n",
       "      <th>8503</th>\n",
       "      <td>8532</td>\n",
       "      <td>Koh phangan - golfe de ThaÃ¯lande ðŸðŸ‘Œâ¤ ...</td>\n",
       "      <td>Fascinating Landscapes</td>\n",
       "    </tr>\n",
       "    <tr>\n",
       "      <th>8504</th>\n",
       "      <td>8533</td>\n",
       "      <td>Two Rocks On A Beach https://t.co/Oak2W8E8dp v...</td>\n",
       "      <td>Fascinating Landscapes</td>\n",
       "    </tr>\n",
       "    <tr>\n",
       "      <th>8505</th>\n",
       "      <td>8534</td>\n",
       "      <td>Sunset or sunrise?\\n#sunset #sunrise #travel #...</td>\n",
       "      <td>Fascinating Landscapes</td>\n",
       "    </tr>\n",
       "    <tr>\n",
       "      <th>8506</th>\n",
       "      <td>8535</td>\n",
       "      <td>On #Facebook: Morning at the City of Gold Coas...</td>\n",
       "      <td>Fascinating Landscapes</td>\n",
       "    </tr>\n",
       "    <tr>\n",
       "      <th>8507</th>\n",
       "      <td>8536</td>\n",
       "      <td>Lapland, where I saw my first Aurora Borealis ...</td>\n",
       "      <td>Fascinating Landscapes</td>\n",
       "    </tr>\n",
       "  </tbody>\n",
       "</table>\n",
       "<p>8508 rows × 3 columns</p>\n",
       "</div>"
      ],
      "text/plain": [
       "      index                                               text  \\\n",
       "0         0  Happy Sunday! â™¥ï¸\\nThanks my lovely @maxsev...   \n",
       "1         1  Last day at the Swedish Nationals!\\n~ðŸ‡¸ðŸ‡ª~...   \n",
       "2         2  Looking forward to accompany this awesome swed...   \n",
       "3         3  Look closely and you will notice to of the mos...   \n",
       "4         4  See you in one year Ã…rhus ðŸ’•\\n.\\nHappy to b...   \n",
       "5         5  Hei! Olemme tÃ¤ssÃ¤ kevÃ¤Ã¤n ja kesÃ¤n mittaan...   \n",
       "6         6  One of our US dealers, Janne â€Fritzâ€ Eksta...   \n",
       "7         7  Kenapa banyak ibu-ibu imigran, pengungsi, asin...   \n",
       "8         8  Kenapa banyak ibu-ibu imigran, pengungsi, asin...   \n",
       "9         9  Condition check after travelling and training....   \n",
       "10       10  We inspire our kids to create and innovate! Ch...   \n",
       "11       11  Friends - the German edition of my cookbook is...   \n",
       "12       12  Sightseeing in Oslo before leaving Norway behi...   \n",
       "13       13  Stefan following his uncle and we are all foll...   \n",
       "14       14  Meet Scarlett and her WAR ON WASTEðŸš¯\\nWe inv...   \n",
       "15       15  International friends! ðŸ‡©ðŸ‡° ðŸ‡±ðŸ‡¹ ðŸ‡³ð...   \n",
       "16       16  Came back to Marjamaa Familyâ£ï¸ Met again w...   \n",
       "17       17  Reunion with my San Francisco family ðŸ‘ŒðŸ˜ð...   \n",
       "18       18  I've never personally entered any competitions...   \n",
       "19       19  Wanderlust consumed her, \\nForeign hearts \\nan...   \n",
       "20       20  Missing #stockholm\\nMissing #sweden \\nMissing ...   \n",
       "21       21  Good friends trainining and fight together @vi...   \n",
       "22       22  Together again #international #friendship #lik...   \n",
       "23       23  Meet Scarlett and her WAR ON WASTE\\nWe invite ...   \n",
       "24       24  On this day, 20 something years ago ðŸ˜œ, a ba...   \n",
       "25       25  Civitavecchia port year 2013 statue of The kis...   \n",
       "26       26  HERE IS AT WEEK FOR BAKKEN â€¢\\nWe bring you t...   \n",
       "27       27  In the last nine days, we visited three differ...   \n",
       "28       28  \"In one hospital I visited in north Yemen, the...   \n",
       "29       29  baby brother. how i love you! \\n__________\\n#t...   \n",
       "...     ...                                                ...   \n",
       "8478   8507  On #Facebook: Morning at the City of Gold Coas...   \n",
       "8479   8508  Finland beach? Yes, it isðŸ‡«ðŸ‡®â˜ºï¸\\n#finl...   \n",
       "8480   8509  Have you been to Fort Aquada during sunset? ðŸ...   \n",
       "8481   8510  Im leaving Denmark and i have no returning tic...   \n",
       "8482   8511  Day trip to #SwedenðŸ‡¸ðŸ‡ª\\nâ€¢\\nâ€¢\\n#americ...   \n",
       "8483   8512  Lifeguard Surfboard On The Beach https://t.co/...   \n",
       "8484   8513  One of mine: Lifeguard Surfboard On The Beach ...   \n",
       "8485   8514  Viking ship replicas are one of the more commo...   \n",
       "8486   8515  Photography: Curvy Road To The Mountains https...   \n",
       "8487   8516  #photooftheday #photographer #photography #pho...   \n",
       "8488   8517  Described as Slo Mo/ Edits/ Disco scene's heav...   \n",
       "8489   8518  What about this: Branch On The Beach at @picfa...   \n",
       "8490   8519  Bali eventually fulfiling expectations at Jimb...   \n",
       "8491   8520  Do you need money? Who doesn't? Do you want to...   \n",
       "8492   8521  One of mine: Australian Beach Sunset @photocro...   \n",
       "8493   8522  #photography Sunset in Caloundra. https://t.co...   \n",
       "8494   8523  Easy Island Life in #KohMak https://t.co/KGZ2M...   \n",
       "8495   8524  Two Rocks On A Beach https://t.co/Oak2W8E8dp v...   \n",
       "8496   8525  Chilled day spent on exploring Koh Phangan on ...   \n",
       "8497   8526  Williams GAC Pindar shuts out champion to win ...   \n",
       "8498   8527  A beautiful sunset colors the tall buildings b...   \n",
       "8499   8528  Seagulls On The Beach https://t.co/je1DsUFysk ...   \n",
       "8500   8529  The low tide brings out the rocks on a sandy b...   \n",
       "8501   8530  And another one: Pandanus On The Bulcock Beach...   \n",
       "8502   8531  ðŸ“·ðŸ—º #abudhabi #photo #travel #amazing #du...   \n",
       "8503   8532  Koh phangan - golfe de ThaÃ¯lande ðŸðŸ‘Œâ¤ ...   \n",
       "8504   8533  Two Rocks On A Beach https://t.co/Oak2W8E8dp v...   \n",
       "8505   8534  Sunset or sunrise?\\n#sunset #sunrise #travel #...   \n",
       "8506   8535  On #Facebook: Morning at the City of Gold Coas...   \n",
       "8507   8536  Lapland, where I saw my first Aurora Borealis ...   \n",
       "\n",
       "                             Class  \n",
       "0     Memories with Family/Friends  \n",
       "1     Memories with Family/Friends  \n",
       "2     Memories with Family/Friends  \n",
       "3     Memories with Family/Friends  \n",
       "4     Memories with Family/Friends  \n",
       "5     Memories with Family/Friends  \n",
       "6     Memories with Family/Friends  \n",
       "7     Memories with Family/Friends  \n",
       "8     Memories with Family/Friends  \n",
       "9     Memories with Family/Friends  \n",
       "10    Memories with Family/Friends  \n",
       "11    Memories with Family/Friends  \n",
       "12    Memories with Family/Friends  \n",
       "13    Memories with Family/Friends  \n",
       "14    Memories with Family/Friends  \n",
       "15    Memories with Family/Friends  \n",
       "16    Memories with Family/Friends  \n",
       "17    Memories with Family/Friends  \n",
       "18    Memories with Family/Friends  \n",
       "19    Memories with Family/Friends  \n",
       "20    Memories with Family/Friends  \n",
       "21    Memories with Family/Friends  \n",
       "22    Memories with Family/Friends  \n",
       "23    Memories with Family/Friends  \n",
       "24    Memories with Family/Friends  \n",
       "25    Memories with Family/Friends  \n",
       "26    Memories with Family/Friends  \n",
       "27    Memories with Family/Friends  \n",
       "28    Memories with Family/Friends  \n",
       "29    Memories with Family/Friends  \n",
       "...                            ...  \n",
       "8478        Fascinating Landscapes  \n",
       "8479        Fascinating Landscapes  \n",
       "8480        Fascinating Landscapes  \n",
       "8481        Fascinating Landscapes  \n",
       "8482        Fascinating Landscapes  \n",
       "8483        Fascinating Landscapes  \n",
       "8484        Fascinating Landscapes  \n",
       "8485        Fascinating Landscapes  \n",
       "8486        Fascinating Landscapes  \n",
       "8487        Fascinating Landscapes  \n",
       "8488        Fascinating Landscapes  \n",
       "8489        Fascinating Landscapes  \n",
       "8490        Fascinating Landscapes  \n",
       "8491        Fascinating Landscapes  \n",
       "8492        Fascinating Landscapes  \n",
       "8493        Fascinating Landscapes  \n",
       "8494        Fascinating Landscapes  \n",
       "8495        Fascinating Landscapes  \n",
       "8496        Fascinating Landscapes  \n",
       "8497        Fascinating Landscapes  \n",
       "8498        Fascinating Landscapes  \n",
       "8499        Fascinating Landscapes  \n",
       "8500        Fascinating Landscapes  \n",
       "8501        Fascinating Landscapes  \n",
       "8502        Fascinating Landscapes  \n",
       "8503        Fascinating Landscapes  \n",
       "8504        Fascinating Landscapes  \n",
       "8505        Fascinating Landscapes  \n",
       "8506        Fascinating Landscapes  \n",
       "8507        Fascinating Landscapes  \n",
       "\n",
       "[8508 rows x 3 columns]"
      ]
     },
     "execution_count": 84,
     "metadata": {},
     "output_type": "execute_result"
    }
   ],
   "source": [
    "df1=df1[pd.notnull(df1['text'])]\n",
    "df1.reset_index()"
   ]
  },
  {
   "cell_type": "code",
   "execution_count": 85,
   "metadata": {},
   "outputs": [
    {
     "name": "stderr",
     "output_type": "stream",
     "text": [
      "[nltk_data] Downloading package stopwords to\n",
      "[nltk_data]     C:\\Users\\abhinav.arun\\AppData\\Roaming\\nltk_data...\n",
      "[nltk_data]   Package stopwords is already up-to-date!\n"
     ]
    },
    {
     "data": {
      "text/plain": [
       "True"
      ]
     },
     "execution_count": 85,
     "metadata": {},
     "output_type": "execute_result"
    }
   ],
   "source": [
    "import nltk\n",
    "nltk.download('stopwords')"
   ]
  },
  {
   "cell_type": "code",
   "execution_count": 86,
   "metadata": {},
   "outputs": [
    {
     "data": {
      "text/plain": [
       "(8508, 2)"
      ]
     },
     "execution_count": 86,
     "metadata": {},
     "output_type": "execute_result"
    }
   ],
   "source": [
    "df1.shape"
   ]
  },
  {
   "cell_type": "code",
   "execution_count": 87,
   "metadata": {},
   "outputs": [],
   "source": [
    "REPLACE_BY_SPACE_RE = re.compile('[/(){}\\[\\]\\|@,;#]')\n",
    "BAD_SYMBOLS_RE = re.compile('[^0-9a-z #+_]')\n",
    "STOPWORDS = set(stopwords.words('english'))"
   ]
  },
  {
   "cell_type": "code",
   "execution_count": 88,
   "metadata": {},
   "outputs": [],
   "source": [
    "def clean(text):\n",
    "    #text = BeautifulSoup(text, \"lxml\").text\n",
    "    text = text.lower()\n",
    "    text = REPLACE_BY_SPACE_RE.sub(' ', text)\n",
    "    text = BAD_SYMBOLS_RE.sub('', text)\n",
    "    text = ' '.join(word for word in text.split() if word not in STOPWORDS) \n",
    "    return text"
   ]
  },
  {
   "cell_type": "code",
   "execution_count": 89,
   "metadata": {},
   "outputs": [],
   "source": [
    "df1['cl_text']=df1['text'].apply(lambda x : clean(x))"
   ]
  },
  {
   "cell_type": "code",
   "execution_count": 90,
   "metadata": {},
   "outputs": [],
   "source": [
    "df1['word_count'] = df1['cl_text'].apply(lambda x: len(str(x).split(\" \")))\n",
    "df1['char_count'] = df1['cl_text'].str.len()"
   ]
  },
  {
   "cell_type": "code",
   "execution_count": 91,
   "metadata": {},
   "outputs": [
    {
     "data": {
      "text/html": [
       "<div>\n",
       "<style scoped>\n",
       "    .dataframe tbody tr th:only-of-type {\n",
       "        vertical-align: middle;\n",
       "    }\n",
       "\n",
       "    .dataframe tbody tr th {\n",
       "        vertical-align: top;\n",
       "    }\n",
       "\n",
       "    .dataframe thead th {\n",
       "        text-align: right;\n",
       "    }\n",
       "</style>\n",
       "<table border=\"1\" class=\"dataframe\">\n",
       "  <thead>\n",
       "    <tr style=\"text-align: right;\">\n",
       "      <th></th>\n",
       "      <th>text</th>\n",
       "      <th>Class</th>\n",
       "      <th>cl_text</th>\n",
       "      <th>word_count</th>\n",
       "      <th>char_count</th>\n",
       "    </tr>\n",
       "  </thead>\n",
       "  <tbody>\n",
       "    <tr>\n",
       "      <th>0</th>\n",
       "      <td>Happy Sunday! â™¥ï¸\\nThanks my lovely @maxsev...</td>\n",
       "      <td>Memories with Family/Friends</td>\n",
       "      <td>happy sunday thanks lovely maxsevastyanov tiff...</td>\n",
       "      <td>28</td>\n",
       "      <td>259</td>\n",
       "    </tr>\n",
       "    <tr>\n",
       "      <th>1</th>\n",
       "      <td>Last day at the Swedish Nationals!\\n~ðŸ‡¸ðŸ‡ª~...</td>\n",
       "      <td>Memories with Family/Friends</td>\n",
       "      <td>last day swedish nationalsultimo dia de los su...</td>\n",
       "      <td>39</td>\n",
       "      <td>348</td>\n",
       "    </tr>\n",
       "    <tr>\n",
       "      <th>2</th>\n",
       "      <td>Looking forward to accompany this awesome swed...</td>\n",
       "      <td>Memories with Family/Friends</td>\n",
       "      <td>looking forward accompany awesome swedish juni...</td>\n",
       "      <td>63</td>\n",
       "      <td>498</td>\n",
       "    </tr>\n",
       "    <tr>\n",
       "      <th>3</th>\n",
       "      <td>Look closely and you will notice to of the mos...</td>\n",
       "      <td>Memories with Family/Friends</td>\n",
       "      <td>look closely notice amazing beautiful girlfrie...</td>\n",
       "      <td>24</td>\n",
       "      <td>196</td>\n",
       "    </tr>\n",
       "    <tr>\n",
       "      <th>4</th>\n",
       "      <td>See you in one year Ã…rhus ðŸ’•\\n.\\nHappy to b...</td>\n",
       "      <td>Memories with Family/Friends</td>\n",
       "      <td>see one year rhus happy begin journey seeing f...</td>\n",
       "      <td>36</td>\n",
       "      <td>255</td>\n",
       "    </tr>\n",
       "  </tbody>\n",
       "</table>\n",
       "</div>"
      ],
      "text/plain": [
       "                                                text  \\\n",
       "0  Happy Sunday! â™¥ï¸\\nThanks my lovely @maxsev...   \n",
       "1  Last day at the Swedish Nationals!\\n~ðŸ‡¸ðŸ‡ª~...   \n",
       "2  Looking forward to accompany this awesome swed...   \n",
       "3  Look closely and you will notice to of the mos...   \n",
       "4  See you in one year Ã…rhus ðŸ’•\\n.\\nHappy to b...   \n",
       "\n",
       "                          Class  \\\n",
       "0  Memories with Family/Friends   \n",
       "1  Memories with Family/Friends   \n",
       "2  Memories with Family/Friends   \n",
       "3  Memories with Family/Friends   \n",
       "4  Memories with Family/Friends   \n",
       "\n",
       "                                             cl_text  word_count  char_count  \n",
       "0  happy sunday thanks lovely maxsevastyanov tiff...          28         259  \n",
       "1  last day swedish nationalsultimo dia de los su...          39         348  \n",
       "2  looking forward accompany awesome swedish juni...          63         498  \n",
       "3  look closely notice amazing beautiful girlfrie...          24         196  \n",
       "4  see one year rhus happy begin journey seeing f...          36         255  "
      ]
     },
     "execution_count": 91,
     "metadata": {},
     "output_type": "execute_result"
    }
   ],
   "source": [
    "df1=df1[pd.notnull(df1['cl_text'])]\n",
    "df1.head()"
   ]
  },
  {
   "cell_type": "code",
   "execution_count": 92,
   "metadata": {},
   "outputs": [],
   "source": [
    "df1=df1.loc[df1['char_count']!=0]"
   ]
  },
  {
   "cell_type": "code",
   "execution_count": 93,
   "metadata": {},
   "outputs": [
    {
     "data": {
      "text/plain": [
       "(8508, 5)"
      ]
     },
     "execution_count": 93,
     "metadata": {},
     "output_type": "execute_result"
    }
   ],
   "source": [
    "df1.shape"
   ]
  },
  {
   "cell_type": "code",
   "execution_count": 94,
   "metadata": {},
   "outputs": [],
   "source": [
    "def avg_word(sentence):\n",
    "    words = sentence.split()\n",
    "    return (sum(len(word) for word in words)/len(words))\n",
    "\n",
    "df1['avg_word'] = df1['cl_text'].apply(lambda x: avg_word(x))"
   ]
  },
  {
   "cell_type": "code",
   "execution_count": 95,
   "metadata": {},
   "outputs": [
    {
     "data": {
      "text/plain": [
       "(8508, 6)"
      ]
     },
     "execution_count": 95,
     "metadata": {},
     "output_type": "execute_result"
    }
   ],
   "source": [
    "df1.head()\n",
    "df1.shape"
   ]
  },
  {
   "cell_type": "code",
   "execution_count": 96,
   "metadata": {},
   "outputs": [],
   "source": [
    "df2=df1\n",
    "df2.drop('text',axis=1,inplace=True)\n",
    "df2.drop('word_count',axis=1,inplace=True)\n",
    "df2.drop('char_count',axis=1,inplace=True)"
   ]
  },
  {
   "cell_type": "code",
   "execution_count": 97,
   "metadata": {},
   "outputs": [],
   "source": [
    "df2.drop('avg_word',axis=1,inplace=True)"
   ]
  },
  {
   "cell_type": "code",
   "execution_count": 98,
   "metadata": {},
   "outputs": [
    {
     "data": {
      "text/html": [
       "<div>\n",
       "<style scoped>\n",
       "    .dataframe tbody tr th:only-of-type {\n",
       "        vertical-align: middle;\n",
       "    }\n",
       "\n",
       "    .dataframe tbody tr th {\n",
       "        vertical-align: top;\n",
       "    }\n",
       "\n",
       "    .dataframe thead th {\n",
       "        text-align: right;\n",
       "    }\n",
       "</style>\n",
       "<table border=\"1\" class=\"dataframe\">\n",
       "  <thead>\n",
       "    <tr style=\"text-align: right;\">\n",
       "      <th></th>\n",
       "      <th>Class</th>\n",
       "      <th>cl_text</th>\n",
       "    </tr>\n",
       "  </thead>\n",
       "  <tbody>\n",
       "    <tr>\n",
       "      <th>0</th>\n",
       "      <td>Memories with Family/Friends</td>\n",
       "      <td>happy sunday thanks lovely maxsevastyanov tiff...</td>\n",
       "    </tr>\n",
       "    <tr>\n",
       "      <th>1</th>\n",
       "      <td>Memories with Family/Friends</td>\n",
       "      <td>last day swedish nationalsultimo dia de los su...</td>\n",
       "    </tr>\n",
       "    <tr>\n",
       "      <th>2</th>\n",
       "      <td>Memories with Family/Friends</td>\n",
       "      <td>looking forward accompany awesome swedish juni...</td>\n",
       "    </tr>\n",
       "    <tr>\n",
       "      <th>3</th>\n",
       "      <td>Memories with Family/Friends</td>\n",
       "      <td>look closely notice amazing beautiful girlfrie...</td>\n",
       "    </tr>\n",
       "    <tr>\n",
       "      <th>4</th>\n",
       "      <td>Memories with Family/Friends</td>\n",
       "      <td>see one year rhus happy begin journey seeing f...</td>\n",
       "    </tr>\n",
       "  </tbody>\n",
       "</table>\n",
       "</div>"
      ],
      "text/plain": [
       "                          Class  \\\n",
       "0  Memories with Family/Friends   \n",
       "1  Memories with Family/Friends   \n",
       "2  Memories with Family/Friends   \n",
       "3  Memories with Family/Friends   \n",
       "4  Memories with Family/Friends   \n",
       "\n",
       "                                             cl_text  \n",
       "0  happy sunday thanks lovely maxsevastyanov tiff...  \n",
       "1  last day swedish nationalsultimo dia de los su...  \n",
       "2  looking forward accompany awesome swedish juni...  \n",
       "3  look closely notice amazing beautiful girlfrie...  \n",
       "4  see one year rhus happy begin journey seeing f...  "
      ]
     },
     "execution_count": 98,
     "metadata": {},
     "output_type": "execute_result"
    }
   ],
   "source": [
    "df2.head()"
   ]
  },
  {
   "cell_type": "code",
   "execution_count": 99,
   "metadata": {},
   "outputs": [],
   "source": [
    "d1={\"Fascinating Landscapes\":0,\"Climate\":1,\"Memories with Family/Friends\":2,\"Local People & Culture\":3,\"Local Cuisine\":4,\"Outdoor Activities and Events\":5,\"History and Heritage\":6,\"Adventure\":7,\"Luxurious Indulgence\":8,\"Break Away from Routine\":9}"
   ]
  },
  {
   "cell_type": "code",
   "execution_count": 100,
   "metadata": {},
   "outputs": [],
   "source": [
    "def conv(s):\n",
    "    return d1[s]"
   ]
  },
  {
   "cell_type": "code",
   "execution_count": 101,
   "metadata": {},
   "outputs": [],
   "source": [
    "df2['Class1']=df2['Class'].apply(lambda x:conv(x))\n",
    "df2.drop('Class',axis=1,inplace=True)"
   ]
  },
  {
   "cell_type": "code",
   "execution_count": 102,
   "metadata": {},
   "outputs": [
    {
     "data": {
      "text/html": [
       "<div>\n",
       "<style scoped>\n",
       "    .dataframe tbody tr th:only-of-type {\n",
       "        vertical-align: middle;\n",
       "    }\n",
       "\n",
       "    .dataframe tbody tr th {\n",
       "        vertical-align: top;\n",
       "    }\n",
       "\n",
       "    .dataframe thead th {\n",
       "        text-align: right;\n",
       "    }\n",
       "</style>\n",
       "<table border=\"1\" class=\"dataframe\">\n",
       "  <thead>\n",
       "    <tr style=\"text-align: right;\">\n",
       "      <th></th>\n",
       "      <th>cl_text</th>\n",
       "      <th>Class1</th>\n",
       "    </tr>\n",
       "  </thead>\n",
       "  <tbody>\n",
       "    <tr>\n",
       "      <th>0</th>\n",
       "      <td>happy sunday thanks lovely maxsevastyanov tiff...</td>\n",
       "      <td>2</td>\n",
       "    </tr>\n",
       "    <tr>\n",
       "      <th>1</th>\n",
       "      <td>last day swedish nationalsultimo dia de los su...</td>\n",
       "      <td>2</td>\n",
       "    </tr>\n",
       "    <tr>\n",
       "      <th>2</th>\n",
       "      <td>looking forward accompany awesome swedish juni...</td>\n",
       "      <td>2</td>\n",
       "    </tr>\n",
       "    <tr>\n",
       "      <th>3</th>\n",
       "      <td>look closely notice amazing beautiful girlfrie...</td>\n",
       "      <td>2</td>\n",
       "    </tr>\n",
       "    <tr>\n",
       "      <th>4</th>\n",
       "      <td>see one year rhus happy begin journey seeing f...</td>\n",
       "      <td>2</td>\n",
       "    </tr>\n",
       "  </tbody>\n",
       "</table>\n",
       "</div>"
      ],
      "text/plain": [
       "                                             cl_text  Class1\n",
       "0  happy sunday thanks lovely maxsevastyanov tiff...       2\n",
       "1  last day swedish nationalsultimo dia de los su...       2\n",
       "2  looking forward accompany awesome swedish juni...       2\n",
       "3  look closely notice amazing beautiful girlfrie...       2\n",
       "4  see one year rhus happy begin journey seeing f...       2"
      ]
     },
     "execution_count": 102,
     "metadata": {},
     "output_type": "execute_result"
    }
   ],
   "source": [
    "df2.head()"
   ]
  },
  {
   "cell_type": "code",
   "execution_count": 42,
   "metadata": {},
   "outputs": [],
   "source": [
    "X1=df2.cl_text\n",
    "Y1=df2.Class1"
   ]
  },
  {
   "cell_type": "code",
   "execution_count": 81,
   "metadata": {},
   "outputs": [],
   "source": [
    "X1=np.array(X1)\n",
    "Y1=np.array(Y1)"
   ]
  },
  {
   "cell_type": "code",
   "execution_count": 122,
   "metadata": {},
   "outputs": [],
   "source": [
    "X1_train, X1_test, Y1_train, Y1_test = train_test_split(X1,Y1, test_size=0.3, random_state = 1)"
   ]
  },
  {
   "cell_type": "code",
   "execution_count": 147,
   "metadata": {},
   "outputs": [],
   "source": [
    "max_len = len(max(X1_train, key=len).split())"
   ]
  },
  {
   "cell_type": "code",
   "execution_count": 84,
   "metadata": {},
   "outputs": [
    {
     "name": "stdout",
     "output_type": "stream",
     "text": [
      "fly little wing vintage jimihendrix rock acousticguitar sweden swedish singer singersongwriter songwriter music guy picoftheday fun life fingerpicking shop shopping family pic world follow4follow followme gothenburg tour love stockholm fender family usa guitar legend\n",
      "Memories with Family/Friends\n"
     ]
    }
   ],
   "source": [
    "index = 1\n",
    "print(X1_train[index])\n",
    "print(list(d1.keys())[list(d1.values()).index(Y1_train[index])])"
   ]
  },
  {
   "cell_type": "code",
   "execution_count": 85,
   "metadata": {},
   "outputs": [],
   "source": [
    "def convert_to_one_hot(Y, C):\n",
    "    Y = np.eye(C)[Y.reshape(-1)]\n",
    "    return Y"
   ]
  },
  {
   "cell_type": "code",
   "execution_count": 86,
   "metadata": {},
   "outputs": [],
   "source": [
    "Y1_oh_train = convert_to_one_hot(Y1_train, C = 10)\n",
    "Y1_oh_test = convert_to_one_hot(Y1_test, C = 10)"
   ]
  },
  {
   "cell_type": "code",
   "execution_count": 87,
   "metadata": {},
   "outputs": [
    {
     "name": "stdout",
     "output_type": "stream",
     "text": [
      "1 is converted into one hot [0. 1. 0. 0. 0. 0. 0. 0. 0. 0.]\n"
     ]
    }
   ],
   "source": [
    "index = 50\n",
    "print(Y1_train[index], \"is converted into one hot\", Y1_oh_train[index])"
   ]
  },
  {
   "cell_type": "markdown",
   "metadata": {},
   "source": [
    "## Word Embeddings"
   ]
  },
  {
   "cell_type": "code",
   "execution_count": 188,
   "metadata": {},
   "outputs": [],
   "source": [
    "def read_glove_vecs(glove_file):\n",
    "    with open(glove_file, 'r',encoding='utf-8') as f:\n",
    "        words = set()\n",
    "        word_to_vec_map = {}\n",
    "        for line in f:\n",
    "            line = line.strip().split()\n",
    "            if(len(line[1:]) == 200):\n",
    "                curr_word = line[0]\n",
    "                words.add(curr_word)\n",
    "                word_to_vec_map[curr_word] = np.array(line[1:], dtype=np.float64)           \n",
    "        \n",
    "        i = 1\n",
    "        words_to_index = {}\n",
    "        index_to_words = {}\n",
    "        for w in sorted(words):\n",
    "            words_to_index[w] = i\n",
    "            index_to_words[i] = w\n",
    "            i = i + 1\n",
    "    return words_to_index, index_to_words, word_to_vec_map"
   ]
  },
  {
   "cell_type": "code",
   "execution_count": 189,
   "metadata": {},
   "outputs": [],
   "source": [
    " word_to_index, index_to_word, word_to_vec_map = read_glove_vecs('glove.twitter.27B.200d.txt')"
   ]
  },
  {
   "cell_type": "code",
   "execution_count": 190,
   "metadata": {},
   "outputs": [
    {
     "data": {
      "text/plain": [
       "(200,)"
      ]
     },
     "execution_count": 190,
     "metadata": {},
     "output_type": "execute_result"
    }
   ],
   "source": [
    "min([word_to_vec_map[w].shape for w in word_to_vec_map.keys()])"
   ]
  },
  {
   "cell_type": "code",
   "execution_count": null,
   "metadata": {},
   "outputs": [],
   "source": []
  },
  {
   "cell_type": "code",
   "execution_count": 191,
   "metadata": {},
   "outputs": [],
   "source": [
    "def sentence_to_avg(sentence, word_to_vec_map):\n",
    "    words = [i.lower() for i in sentence.split()]\n",
    "    avg = np.zeros((200,))\n",
    "    for w in words:\n",
    "        if w in word_to_index.keys():\n",
    "            avg += word_to_vec_map[w]\n",
    "    avg = avg / len(words)\n",
    "    return avg"
   ]
  },
  {
   "cell_type": "code",
   "execution_count": 192,
   "metadata": {},
   "outputs": [],
   "source": [
    "def softmax(x):\n",
    "    e_x = np.exp(x - np.max(x))\n",
    "    return e_x / e_x.sum()"
   ]
  },
  {
   "cell_type": "code",
   "execution_count": 193,
   "metadata": {},
   "outputs": [],
   "source": [
    "def predict(X, Y, W, b, word_to_vec_map):\n",
    "    m = X.shape[0]\n",
    "    pred = np.zeros((m, 1))\n",
    "    \n",
    "    for j in range(m):                       # Loop over training examples\n",
    "        \n",
    "        # Split jth test example (sentence) into list of lower case words\n",
    "        words = X[j].lower().split()\n",
    "        \n",
    "        # Average words' vectors\n",
    "        avg = np.zeros((200,))\n",
    "        for w in words:\n",
    "            if w in word_to_vec_map.keys():\n",
    "                avg += word_to_vec_map[w]\n",
    "        avg = avg/len(words)\n",
    "\n",
    "        # Forward propagation\n",
    "        Z = np.dot(W, avg) + b\n",
    "        A = softmax(Z)\n",
    "        pred[j] = np.argmax(A)\n",
    "        \n",
    "    print(\"Accuracy: \"  + str(np.mean((pred[:] == Y.reshape(Y.shape[0],1)[:]))))\n",
    "    \n",
    "    return pred"
   ]
  },
  {
   "cell_type": "code",
   "execution_count": 194,
   "metadata": {},
   "outputs": [],
   "source": [
    "def model(X, Y, word_to_vec_map, learning_rate = 0.01, num_iterations = 400):\n",
    "    np.random.seed(1)\n",
    "    m = Y.shape[0]\n",
    "    n_y = 10                                  \n",
    "    n_h = 200 \n",
    "    W = np.random.randn(n_y, n_h) / np.sqrt(n_h)\n",
    "    b = np.zeros((n_y,))\n",
    "    Y_oh = convert_to_one_hot(Y, C = n_y)\n",
    "    for t in range(num_iterations):                       # Loop over the number of iterations\n",
    "        for i in range(m):\n",
    "            avg = sentence_to_avg(X[i], word_to_vec_map)\n",
    "            z = np.dot(W, avg) + b\n",
    "            a = softmax(z)\n",
    "            cost = -np.sum(np.multiply(Y_oh[i], np.log(a)))\n",
    "            dz = a - Y_oh[i]\n",
    "            dW = np.dot(dz.reshape(n_y,1), avg.reshape(1, n_h))\n",
    "            db = dz\n",
    "            W = W - learning_rate * dW\n",
    "            b = b - learning_rate * db\n",
    "        \n",
    "        if t % 100 == 0:\n",
    "            print(\"Epoch: \" + str(t) + \" --- cost = \" + str(cost))\n",
    "            pred = predict(X, Y, W, b, word_to_vec_map)\n",
    "    return pred, W, b"
   ]
  },
  {
   "cell_type": "code",
   "execution_count": 140,
   "metadata": {},
   "outputs": [
    {
     "name": "stdout",
     "output_type": "stream",
     "text": [
      "Epoch: 0 --- cost = 0.5291108525032989\n",
      "Accuracy: 0.4842989084802687\n",
      "Epoch: 100 --- cost = 0.001884437898672843\n",
      "Accuracy: 0.764063811922754\n",
      "Epoch: 200 --- cost = 0.000687561428215902\n",
      "Accuracy: 0.7766582703610412\n",
      "Epoch: 300 --- cost = 0.00040129458179224265\n",
      "Accuracy: 0.781360201511335\n",
      "[[0.]\n",
      " [2.]\n",
      " [3.]\n",
      " ...\n",
      " [2.]\n",
      " [6.]\n",
      " [2.]]\n"
     ]
    }
   ],
   "source": [
    "pred, W, b = model(X1_train, Y1_train, word_to_vec_map)\n",
    "print(pred)"
   ]
  },
  {
   "cell_type": "code",
   "execution_count": 75,
   "metadata": {},
   "outputs": [
    {
     "name": "stdout",
     "output_type": "stream",
     "text": [
      "Training set:\n"
     ]
    },
    {
     "ename": "KeyboardInterrupt",
     "evalue": "",
     "output_type": "error",
     "traceback": [
      "\u001b[1;31m---------------------------------------------------------------------------\u001b[0m",
      "\u001b[1;31mKeyboardInterrupt\u001b[0m                         Traceback (most recent call last)",
      "\u001b[1;32m<ipython-input-75-a19a3f1b3473>\u001b[0m in \u001b[0;36m<module>\u001b[1;34m()\u001b[0m\n\u001b[0;32m      1\u001b[0m \u001b[0mprint\u001b[0m\u001b[1;33m(\u001b[0m\u001b[1;34m\"Training set:\"\u001b[0m\u001b[1;33m)\u001b[0m\u001b[1;33m\u001b[0m\u001b[0m\n\u001b[1;32m----> 2\u001b[1;33m \u001b[0mpred_train\u001b[0m \u001b[1;33m=\u001b[0m \u001b[0mpredict\u001b[0m\u001b[1;33m(\u001b[0m\u001b[0mX1_train\u001b[0m\u001b[1;33m,\u001b[0m \u001b[0mY1_train\u001b[0m\u001b[1;33m,\u001b[0m \u001b[0mW\u001b[0m\u001b[1;33m,\u001b[0m \u001b[0mb\u001b[0m\u001b[1;33m,\u001b[0m \u001b[0mword_to_vec_map\u001b[0m\u001b[1;33m)\u001b[0m\u001b[1;33m\u001b[0m\u001b[0m\n\u001b[0m\u001b[0;32m      3\u001b[0m \u001b[0mprint\u001b[0m\u001b[1;33m(\u001b[0m\u001b[1;34m'Test set:'\u001b[0m\u001b[1;33m)\u001b[0m\u001b[1;33m\u001b[0m\u001b[0m\n\u001b[0;32m      4\u001b[0m \u001b[0mpred_test\u001b[0m \u001b[1;33m=\u001b[0m \u001b[0mpredict\u001b[0m\u001b[1;33m(\u001b[0m\u001b[0mX1_test\u001b[0m\u001b[1;33m,\u001b[0m \u001b[0mY1_test\u001b[0m\u001b[1;33m,\u001b[0m \u001b[0mW\u001b[0m\u001b[1;33m,\u001b[0m \u001b[0mb\u001b[0m\u001b[1;33m,\u001b[0m \u001b[0mword_to_vec_map\u001b[0m\u001b[1;33m)\u001b[0m\u001b[1;33m\u001b[0m\u001b[0m\n",
      "\u001b[1;32m<ipython-input-49-7d2fd131670a>\u001b[0m in \u001b[0;36mpredict\u001b[1;34m(X, Y, W, b, word_to_vec_map)\u001b[0m\n\u001b[0;32m     12\u001b[0m         \u001b[1;32mfor\u001b[0m \u001b[0mw\u001b[0m \u001b[1;32min\u001b[0m \u001b[0mwords\u001b[0m\u001b[1;33m:\u001b[0m\u001b[1;33m\u001b[0m\u001b[0m\n\u001b[0;32m     13\u001b[0m             \u001b[1;32mif\u001b[0m \u001b[0mw\u001b[0m \u001b[1;32min\u001b[0m \u001b[0mword_to_vec_map\u001b[0m\u001b[1;33m.\u001b[0m\u001b[0mkeys\u001b[0m\u001b[1;33m(\u001b[0m\u001b[1;33m)\u001b[0m\u001b[1;33m:\u001b[0m\u001b[1;33m\u001b[0m\u001b[0m\n\u001b[1;32m---> 14\u001b[1;33m                 \u001b[0mavg\u001b[0m \u001b[1;33m+=\u001b[0m \u001b[0mword_to_vec_map\u001b[0m\u001b[1;33m[\u001b[0m\u001b[0mw\u001b[0m\u001b[1;33m]\u001b[0m\u001b[1;33m\u001b[0m\u001b[0m\n\u001b[0m\u001b[0;32m     15\u001b[0m         \u001b[0mavg\u001b[0m \u001b[1;33m=\u001b[0m \u001b[0mavg\u001b[0m\u001b[1;33m/\u001b[0m\u001b[0mlen\u001b[0m\u001b[1;33m(\u001b[0m\u001b[0mwords\u001b[0m\u001b[1;33m)\u001b[0m\u001b[1;33m\u001b[0m\u001b[0m\n\u001b[0;32m     16\u001b[0m \u001b[1;33m\u001b[0m\u001b[0m\n",
      "\u001b[1;31mKeyboardInterrupt\u001b[0m: "
     ]
    }
   ],
   "source": [
    "print(\"Training set:\")\n",
    "pred_train = predict(X1_train, Y1_train, W, b, word_to_vec_map)\n",
    "print('Test set:')\n",
    "pred_test = predict(X1_test, Y1_test, W, b, word_to_vec_map)"
   ]
  },
  {
   "cell_type": "code",
   "execution_count": 143,
   "metadata": {},
   "outputs": [],
   "source": [
    "def plot_confusion_matrix(y_actu, y_pred, title='Confusion matrix', cmap=plt.cm.gray_r):\n",
    "    \n",
    "    df_confusion = pd.crosstab(y_actu, y_pred.reshape(y_pred.shape[0],), rownames=['Actual'], colnames=['Predicted'], margins=True)\n",
    "    \n",
    "    df_conf_norm = df_confusion / df_confusion.sum(axis=1)\n",
    "    \n",
    "    plt.matshow(df_confusion, cmap=cmap) # imshow\n",
    "    #plt.title(title)\n",
    "    plt.colorbar()\n",
    "    tick_marks = np.arange(len(df_confusion.columns))\n",
    "    plt.xticks(tick_marks, df_confusion.columns, rotation=45)\n",
    "    plt.yticks(tick_marks, df_confusion.index)\n",
    "    #plt.tight_layout()\n",
    "    plt.ylabel(df_confusion.index.name)\n",
    "    plt.xlabel(df_confusion.columns.name)"
   ]
  },
  {
   "cell_type": "markdown",
   "metadata": {},
   "source": [
    "## Confusion Matrix"
   ]
  },
  {
   "cell_type": "code",
   "execution_count": 144,
   "metadata": {},
   "outputs": [
    {
     "name": "stdout",
     "output_type": "stream",
     "text": [
      "Predicted  0.0  1.0  2.0  3.0  4.0  5.0  6.0  7.0  8.0  9.0   All\n",
      "Actual                                                           \n",
      "0          521   23   12   11    7   18   15    9    7    5   628\n",
      "1           20  269   14    9    8   12    5    5    5    9   356\n",
      "2            8   13  216   17    7    9    1    5    5    3   284\n",
      "3           20   19   27  160   11   14   14    4    0    8   277\n",
      "4            7    6   11   12  185    5    1    3    4    2   236\n",
      "5           13   14   19   14    3  127    4   11    5    0   210\n",
      "6           21    7   12   10    1    8  151    6    4    0   220\n",
      "7           13    5    6    2    5    6    3  126    1    3   170\n",
      "8            6    4    6    6    7    6    1    2   45    2    85\n",
      "9            7    8   10    8    3    7    0    2    1   41    87\n",
      "All        636  368  333  249  237  212  195  173   77   73  2553\n"
     ]
    },
    {
     "data": {
      "image/png": "[encoded data removed]",
      "text/plain": [
       "<Figure size 288x288 with 2 Axes>"
      ]
     },
     "metadata": {
      "needs_background": "light"
     },
     "output_type": "display_data"
    }
   ],
   "source": [
    "print(pd.crosstab(Y1_test, pred_test.reshape(2553,), rownames=['Actual'], colnames=['Predicted'], margins=True))\n",
    "plot_confusion_matrix(Y1_test, pred_test)"
   ]
  },
  {
   "cell_type": "markdown",
   "metadata": {},
   "source": [
    "## Deep Learning"
   ]
  },
  {
   "cell_type": "code",
   "execution_count": 195,
   "metadata": {},
   "outputs": [],
   "source": [
    "import numpy as np\n",
    "np.random.seed(0)\n",
    "from keras.models import Model\n",
    "from keras.layers import Dense, Input, Dropout, LSTM, Activation\n",
    "from keras.layers.embeddings import Embedding\n",
    "from keras.preprocessing import sequence\n",
    "from keras.initializers import glorot_uniform\n",
    "np.random.seed(1)"
   ]
  },
  {
   "cell_type": "code",
   "execution_count": 196,
   "metadata": {},
   "outputs": [],
   "source": [
    "def sentences_to_indices(X, word_to_index, max_len):\n",
    "    m = X.shape[0]                                   # number of training examples\n",
    "    # Initialize X_indices as a numpy matrix of zeros and the correct shape (≈ 1 line)\n",
    "    X_indices = np.zeros((m, max_len))\n",
    "    \n",
    "    for i in range(m):                               # loop over training examples\n",
    "        \n",
    "        # Convert the ith training sentence in lower case and split is into words. You should get a list of words.\n",
    "        sentence_words = [w.lower() for w in X[i].split()]\n",
    "        \n",
    "        # Initialize j to 0\n",
    "        j = 0\n",
    "        \n",
    "        # Loop over the words of sentence_words\n",
    "        for w in sentence_words:\n",
    "            if w in word_to_index.keys():\n",
    "            # Set the (i,j)th entry of X_indices to the index of the correct word.\n",
    "                X_indices[i, j] = word_to_index[w]\n",
    "            # Increment j to j + 1\n",
    "            j += 1\n",
    "    return X_indices"
   ]
  },
  {
   "cell_type": "code",
   "execution_count": 197,
   "metadata": {},
   "outputs": [
    {
     "name": "stdout",
     "output_type": "stream",
     "text": [
      "X1 = ['i love african safari' 'lets enjoy africa']\n",
      "X1_indices = [[266800. 348020.  11891. 531543.]\n",
      " [339236. 184304.  11885.      0.]]\n"
     ]
    }
   ],
   "source": [
    "X1 = np.array([\"i love african safari\", \"lets enjoy africa\"])\n",
    "X1_indices = sentences_to_indices(X1,word_to_index, max_len = 4)\n",
    "print(\"X1 =\", X1)\n",
    "print(\"X1_indices =\", X1_indices)"
   ]
  },
  {
   "cell_type": "code",
   "execution_count": 107,
   "metadata": {},
   "outputs": [],
   "source": [
    "X1=df2.cl_text\n",
    "Y1=df2.Class1"
   ]
  },
  {
   "cell_type": "code",
   "execution_count": 108,
   "metadata": {},
   "outputs": [],
   "source": [
    "X1=np.array(X1)\n",
    "Y1=np.array(Y1)"
   ]
  },
  {
   "cell_type": "code",
   "execution_count": 109,
   "metadata": {},
   "outputs": [],
   "source": [
    "X1_train, X1_test, Y1_train, Y1_test = train_test_split(X1,Y1, test_size=0.3, random_state = 1)"
   ]
  },
  {
   "cell_type": "code",
   "execution_count": 110,
   "metadata": {},
   "outputs": [],
   "source": [
    "max_len = len(max(X1_train, key=len).split())"
   ]
  },
  {
   "cell_type": "code",
   "execution_count": 111,
   "metadata": {},
   "outputs": [],
   "source": [
    "def pretrained_embedding_layer(word_to_vec_map, word_to_index):\n",
    "    \"\"\"\n",
    "    \n",
    "    Arguments:\n",
    "    word_to_vec_map -- dictionary mapping words to their GloVe vector representation.\n",
    "    word_to_index -- dictionary mapping from words to their indices in the vocabulary (400,001 words)\n",
    "\n",
    "    Returns:\n",
    "    embedding_layer -- pretrained layer Keras instance\n",
    "    \"\"\"\n",
    "    \n",
    "    vocab_len = len(word_to_index) + 1           # adding 1 to fit Keras embedding (requirement)\n",
    "    emb_dim = 200     # define dimensionality of your GloVe word vectors (= 50)\n",
    "    \n",
    "    # Initialize the embedding matrix as a numpy array of zeros of shape (vocab_len, dimensions of word vectors = emb_dim)\n",
    "    emb_matrix = np.zeros((vocab_len, emb_dim))\n",
    "    \n",
    "    # Set each row \"index\" of the embedding matrix to be the word vector representation of the \"index\"th word of the vocabulary\n",
    "    for word, index in word_to_index.items():\n",
    "        emb_matrix[index, :] = word_to_vec_map[word]\n",
    "\n",
    "    # Define Keras embedding layer with the correct output/input sizes, make it trainable. Use Embedding(...). Make sure to set trainable=False. \n",
    "    embedding_layer = Embedding(vocab_len, emb_dim, trainable=False)\n",
    "\n",
    "    # Build the embedding layer, it is required before setting the weights of the embedding layer. Do not modify the \"None\".\n",
    "    embedding_layer.build((None,))\n",
    "    \n",
    "    # Set the weights of the embedding layer to the embedding matrix. Your layer is now pretrained.\n",
    "    embedding_layer.set_weights([emb_matrix])\n",
    "    \n",
    "    return embedding_layer"
   ]
  },
  {
   "cell_type": "code",
   "execution_count": 199,
   "metadata": {},
   "outputs": [
    {
     "name": "stdout",
     "output_type": "stream",
     "text": [
      "weights[0][1][2] = -0.0037743\n"
     ]
    }
   ],
   "source": [
    "embedding_layer = pretrained_embedding_layer(word_to_vec_map, word_to_index)"
   ]
  },
  {
   "cell_type": "code",
   "execution_count": 112,
   "metadata": {},
   "outputs": [
    {
     "data": {
      "text/plain": [
       "-0.31723"
      ]
     },
     "execution_count": 112,
     "metadata": {},
     "output_type": "execute_result"
    }
   ],
   "source": [
    "embedding_layer.get_weights()[0][1][3]"
   ]
  },
  {
   "cell_type": "code",
   "execution_count": 145,
   "metadata": {},
   "outputs": [],
   "source": [
    "def LSTM_fun(input_shape, word_to_vec_map, word_to_index,embedding_layer):\n",
    "    \"\"\"\n",
    "    Function creating the Emojify-v2 model's graph.\n",
    "    \n",
    "    Arguments:\n",
    "    input_shape -- shape of the input, usually (max_len,)\n",
    "    word_to_vec_map -- dictionary mapping every word in a vocabulary into its 50-dimensional vector representation\n",
    "    word_to_index -- dictionary mapping from words to their indices in the vocabulary (400,001 words)\n",
    "\n",
    "    Returns:\n",
    "    model -- a model instance in Keras\n",
    "    \"\"\"\n",
    "    \n",
    "    ### START CODE HERE ###\n",
    "    # Define sentence_indices as the input of the graph, it should be of shape input_shape and dtype 'int32' (as it contains indices).\n",
    "    sentence_indices = Input(input_shape, dtype='int32')\n",
    "    \n",
    "    # Create the embedding layer pretrained with GloVe Vectors (≈1 line)\n",
    "#     embedding_layer = pretrained_embedding_layer(word_to_vec_map, word_to_index)\n",
    "    \n",
    "    # Propagate sentence_indices through your embedding layer, you get back the embeddings\n",
    "    embeddings = embedding_layer(sentence_indices)   \n",
    "    \n",
    "    # Propagate the embeddings through an LSTM layer with 128-dimensional hidden state\n",
    "    # Be careful, the returned output should be a batch of sequences.\n",
    "    X = LSTM(128, return_sequences=True)(embeddings)\n",
    "    # Add dropout with a probability of 0.5\n",
    "    X = Dropout(0.5)(X)\n",
    "    # Propagate X trough another LSTM layer with 128-dimensional hidden state\n",
    "    # Be careful, the returned output should be a single hidden state, not a batch of sequences.\n",
    "    X = LSTM(128, return_sequences=False)(X)\n",
    "    # Add dropout with a probability of 0.5\n",
    "    X = Dropout(0.5)(X)\n",
    "    # Propagate X through a Dense layer with softmax activation to get back a batch of 10-dimensional vectors.\n",
    "    X = Dense(10)(X)\n",
    "    # Add a softmax activation\n",
    "    X = Activation('softmax')(X)\n",
    "    \n",
    "    # Create Model instance which converts sentence_indices into X.\n",
    "    model = Model(inputs=sentence_indices, outputs=X)\n",
    "    \n",
    "    ### END CODE HERE ###\n",
    "    \n",
    "    return model"
   ]
  },
  {
   "cell_type": "code",
   "execution_count": 146,
   "metadata": {},
   "outputs": [
    {
     "data": {
      "text/plain": [
       "491"
      ]
     },
     "execution_count": 146,
     "metadata": {},
     "output_type": "execute_result"
    }
   ],
   "source": [
    "max_len"
   ]
  },
  {
   "cell_type": "code",
   "execution_count": 147,
   "metadata": {},
   "outputs": [
    {
     "name": "stdout",
     "output_type": "stream",
     "text": [
      "_________________________________________________________________\n",
      "Layer (type)                 Output Shape              Param #   \n",
      "=================================================================\n",
      "input_7 (InputLayer)         (None, 491)               0         \n",
      "_________________________________________________________________\n",
      "embedding_1 (Embedding)      (None, 491, 200)          238702800 \n",
      "_________________________________________________________________\n",
      "lstm_13 (LSTM)               (None, 491, 128)          168448    \n",
      "_________________________________________________________________\n",
      "dropout_9 (Dropout)          (None, 491, 128)          0         \n",
      "_________________________________________________________________\n",
      "lstm_14 (LSTM)               (None, 128)               131584    \n",
      "_________________________________________________________________\n",
      "dropout_10 (Dropout)         (None, 128)               0         \n",
      "_________________________________________________________________\n",
      "dense_7 (Dense)              (None, 10)                1290      \n",
      "_________________________________________________________________\n",
      "activation_7 (Activation)    (None, 10)                0         \n",
      "=================================================================\n",
      "Total params: 239,004,122\n",
      "Trainable params: 301,322\n",
      "Non-trainable params: 238,702,800\n",
      "_________________________________________________________________\n"
     ]
    }
   ],
   "source": [
    "model = LSTM_fun((max_len,), word_to_vec_map, word_to_index,embedding_layer)\n",
    "model.summary()"
   ]
  },
  {
   "cell_type": "code",
   "execution_count": 148,
   "metadata": {},
   "outputs": [],
   "source": [
    "model.compile(loss='categorical_crossentropy', optimizer='adam', metrics=['accuracy'])"
   ]
  },
  {
   "cell_type": "code",
   "execution_count": 149,
   "metadata": {},
   "outputs": [],
   "source": [
    "X_train_indices = sentences_to_indices(X1_train, word_to_index, max_len)\n",
    "Y1_train_oh = convert_to_one_hot(Y1_train, C = 10)"
   ]
  },
  {
   "cell_type": "code",
   "execution_count": 150,
   "metadata": {},
   "outputs": [
    {
     "name": "stdout",
     "output_type": "stream",
     "text": [
      "Epoch 1/20\n",
      "5955/5955 [==============================] - 634s 106ms/step - loss: 2.1793 - acc: 0.2485\n",
      "Epoch 2/20\n",
      "5955/5955 [==============================] - 635s 107ms/step - loss: 2.1592 - acc: 0.2484\n",
      "Epoch 3/20\n",
      "5955/5955 [==============================] - 1281s 215ms/step - loss: 2.1562 - acc: 0.2485\n",
      "Epoch 4/20\n",
      "5955/5955 [==============================] - 641s 108ms/step - loss: 2.1545 - acc: 0.2484\n",
      "Epoch 5/20\n",
      "5955/5955 [==============================] - 649s 109ms/step - loss: 2.1533 - acc: 0.2485\n",
      "Epoch 6/20\n",
      "5955/5955 [==============================] - 651s 109ms/step - loss: 2.1522 - acc: 0.2485\n",
      "Epoch 7/20\n",
      "5955/5955 [==============================] - 650s 109ms/step - loss: 2.1540 - acc: 0.2485\n",
      "Epoch 8/20\n",
      "5955/5955 [==============================] - 652s 109ms/step - loss: 2.1533 - acc: 0.2485\n",
      "Epoch 9/20\n",
      "5955/5955 [==============================] - 648s 109ms/step - loss: 2.1516 - acc: 0.2485\n",
      "Epoch 10/20\n",
      "5955/5955 [==============================] - 649s 109ms/step - loss: 2.1527 - acc: 0.2485\n",
      "Epoch 11/20\n",
      "5955/5955 [==============================] - 655s 110ms/step - loss: 2.1514 - acc: 0.2485\n",
      "Epoch 12/20\n",
      "5955/5955 [==============================] - 643s 108ms/step - loss: 2.1509 - acc: 0.2485\n",
      "Epoch 13/20\n",
      "5955/5955 [==============================] - 637s 107ms/step - loss: 2.1506 - acc: 0.2485\n",
      "Epoch 14/20\n",
      "5955/5955 [==============================] - 1019s 171ms/step - loss: 2.7462 - acc: 0.2208\n",
      "Epoch 15/20\n",
      "5955/5955 [==============================] - 681s 114ms/step - loss: 2.1509 - acc: 0.2484\n",
      "Epoch 16/20\n",
      "5955/5955 [==============================] - 651s 109ms/step - loss: 2.1523 - acc: 0.2484\n",
      "Epoch 17/20\n",
      "5955/5955 [==============================] - 639s 107ms/step - loss: 2.1525 - acc: 0.2484\n",
      "Epoch 18/20\n",
      "5955/5955 [==============================] - 647s 109ms/step - loss: 2.1503 - acc: 0.2484\n",
      "Epoch 19/20\n",
      "5955/5955 [==============================] - 647s 109ms/step - loss: 2.1499 - acc: 0.2484\n",
      "Epoch 20/20\n",
      "5955/5955 [==============================] - 643s 108ms/step - loss: 2.1514 - acc: 0.2484\n"
     ]
    },
    {
     "data": {
      "text/plain": [
       "<keras.callbacks.History at 0x22dc854dcc0>"
      ]
     },
     "execution_count": 150,
     "metadata": {},
     "output_type": "execute_result"
    }
   ],
   "source": [
    "model.fit(X_train_indices, Y1_train_oh, epochs = 20, batch_size = 64, shuffle=True)"
   ]
  },
  {
   "cell_type": "code",
   "execution_count": 144,
   "metadata": {},
   "outputs": [
    {
     "name": "stdout",
     "output_type": "stream",
     "text": [
      "2553/2553 [==============================] - 12s 5ms/step\n",
      "\n",
      "Test accuracy =  0.24598511569041437\n"
     ]
    }
   ],
   "source": [
    "X_test_indices = sentences_to_indices(X1_test, word_to_index, max_len = max_len)\n",
    "Y_test_oh = convert_to_one_hot(Y1_test, C = 10)\n",
    "loss, acc = model.evaluate(X_test_indices, Y_test_oh)\n",
    "print()\n",
    "print(\"Test accuracy = \", acc)"
   ]
  },
  {
   "cell_type": "code",
   "execution_count": null,
   "metadata": {},
   "outputs": [],
   "source": []
  }
 ],
 "metadata": {
  "kernelspec": {
   "display_name": "Python 3",
   "language": "python",
   "name": "python3"
  },
  "language_info": {
   "codemirror_mode": {
    "name": "ipython",
    "version": 3
   },
   "file_extension": ".py",
   "mimetype": "text/x-python",
   "name": "python",
   "nbconvert_exporter": "python",
   "pygments_lexer": "ipython3",
   "version": "3.5.6"
  }
 },
 "nbformat": 4,
 "nbformat_minor": 2
}
