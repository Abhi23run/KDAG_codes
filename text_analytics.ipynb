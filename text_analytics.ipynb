{
 "cells": [
  {
   "cell_type": "code",
   "execution_count": 4,
   "metadata": {},
   "outputs": [],
   "source": [
    "import pandas as pd \n",
    "df = pd.read_csv(\"/home/datascience/Documents/workspace/Dataset.csv\")"
   ]
  },
  {
   "cell_type": "code",
   "execution_count": 5,
   "metadata": {},
   "outputs": [],
   "source": [
    "#adding new variables\n",
    "df['word_count'] = df['text'].apply(lambda x: len(str(x).split(\" \")))\n",
    "df['char_count'] = df['text'].str.len()\n",
    "def avg_word(sentence):\n",
    "  words = sentence.split()\n",
    "  return (sum(len(word) for word in words)/len(words))\n",
    "\n",
    "df['avg_word'] = df['text'].apply(lambda x: avg_word(x))\n",
    "\n",
    "from nltk.corpus import stopwords\n",
    "stop = stopwords.words('english')\n",
    "df['text'] = df['text'].apply(lambda x: \" \".join(x for x in x.split() if x not in stop))\n",
    "\n",
    "df['text'] = df['text'].apply(lambda x: \" \".join(x.lower() for x in x.split()))\n",
    "\n",
    "\n",
    "df['Text'] = df['text']\n"
   ]
  },
  {
   "cell_type": "code",
   "execution_count": 6,
   "metadata": {},
   "outputs": [],
   "source": [
    "import warnings\n",
    "warnings.filterwarnings('ignore')"
   ]
  },
  {
   "cell_type": "code",
   "execution_count": 8,
   "metadata": {},
   "outputs": [
    {
     "data": {
      "text/html": [
       "<div>\n",
       "<style scoped>\n",
       "    .dataframe tbody tr th:only-of-type {\n",
       "        vertical-align: middle;\n",
       "    }\n",
       "\n",
       "    .dataframe tbody tr th {\n",
       "        vertical-align: top;\n",
       "    }\n",
       "\n",
       "    .dataframe thead th {\n",
       "        text-align: right;\n",
       "    }\n",
       "</style>\n",
       "<table border=\"1\" class=\"dataframe\">\n",
       "  <thead>\n",
       "    <tr style=\"text-align: right;\">\n",
       "      <th></th>\n",
       "      <th>text</th>\n",
       "      <th>Category.cleaned</th>\n",
       "      <th>word_count</th>\n",
       "      <th>char_count</th>\n",
       "      <th>avg_word</th>\n",
       "      <th>Text</th>\n",
       "    </tr>\n",
       "  </thead>\n",
       "  <tbody>\n",
       "    <tr>\n",
       "      <th>0</th>\n",
       "      <td>next thursday hosting  beer dinner 5 delicious...</td>\n",
       "      <td>Food &amp; Drinks</td>\n",
       "      <td>19</td>\n",
       "      <td>108</td>\n",
       "      <td>5.294118</td>\n",
       "      <td>next thursday hosting . beer dinner! 5 delicio...</td>\n",
       "    </tr>\n",
       "    <tr>\n",
       "      <th>1</th>\n",
       "      <td>cant drink coffee mood tea hot chocolate time</td>\n",
       "      <td>Food &amp; Drinks</td>\n",
       "      <td>16</td>\n",
       "      <td>75</td>\n",
       "      <td>4.000000</td>\n",
       "      <td>can't drink coffee mood tea hot chocolate time!</td>\n",
       "    </tr>\n",
       "    <tr>\n",
       "      <th>2</th>\n",
       "      <td>pero wala kpa na try nga nag inom asta maaga i...</td>\n",
       "      <td>Food &amp; Drinks</td>\n",
       "      <td>17</td>\n",
       "      <td>79</td>\n",
       "      <td>3.705882</td>\n",
       "      <td>pero wala kpa na try nga nag inom asta maaga i...</td>\n",
       "    </tr>\n",
       "    <tr>\n",
       "      <th>3</th>\n",
       "      <td>tried chewy fudge cream cheese brownies try to...</td>\n",
       "      <td>Food &amp; Drinks</td>\n",
       "      <td>19</td>\n",
       "      <td>98</td>\n",
       "      <td>4.444444</td>\n",
       "      <td>tried chewy fudge cream cheese brownies? try t...</td>\n",
       "    </tr>\n",
       "    <tr>\n",
       "      <th>4</th>\n",
       "      <td>brownies</td>\n",
       "      <td>Food &amp; Drinks</td>\n",
       "      <td>3</td>\n",
       "      <td>10</td>\n",
       "      <td>8.000000</td>\n",
       "      <td>brownies</td>\n",
       "    </tr>\n",
       "  </tbody>\n",
       "</table>\n",
       "</div>"
      ],
      "text/plain": [
       "                                                text Category.cleaned  \\\n",
       "0  next thursday hosting  beer dinner 5 delicious...    Food & Drinks   \n",
       "1      cant drink coffee mood tea hot chocolate time    Food & Drinks   \n",
       "2  pero wala kpa na try nga nag inom asta maaga i...    Food & Drinks   \n",
       "3  tried chewy fudge cream cheese brownies try to...    Food & Drinks   \n",
       "4                                           brownies    Food & Drinks   \n",
       "\n",
       "   word_count  char_count  avg_word  \\\n",
       "0          19         108  5.294118   \n",
       "1          16          75  4.000000   \n",
       "2          17          79  3.705882   \n",
       "3          19          98  4.444444   \n",
       "4           3          10  8.000000   \n",
       "\n",
       "                                                Text  \n",
       "0  next thursday hosting . beer dinner! 5 delicio...  \n",
       "1    can't drink coffee mood tea hot chocolate time!  \n",
       "2  pero wala kpa na try nga nag inom asta maaga i...  \n",
       "3  tried chewy fudge cream cheese brownies? try t...  \n",
       "4                                           brownies  "
      ]
     },
     "execution_count": 8,
     "metadata": {},
     "output_type": "execute_result"
    }
   ],
   "source": [
    "df['text'] = df['text'].str.replace('[^\\w\\s]','')\n",
    "df.head()"
   ]
  },
  {
   "cell_type": "code",
   "execution_count": null,
   "metadata": {},
   "outputs": [],
   "source": [
    "from string import punctuation\n",
    "def strip_punctuation(s):\n",
    "    return ''.join(c for c in s if c not in punctuation)\n",
    " "
   ]
  },
  {
   "cell_type": "code",
   "execution_count": 3,
   "metadata": {},
   "outputs": [
    {
     "data": {
      "text/plain": [
       "'Hello how are you Hope that you are doing okay'"
      ]
     },
     "execution_count": 3,
     "metadata": {},
     "output_type": "execute_result"
    }
   ],
   "source": [
    "strip_punctuation('Hello, how are you? Hope that you@ are doing #okay')"
   ]
  },
  {
   "cell_type": "code",
   "execution_count": null,
   "metadata": {},
   "outputs": [],
   "source": [
    "#removing punctuations and special characters\n",
    "import string\n",
    "\n",
    "def clear_punctuation(s):\n",
    "    clear_string = \"\"\n",
    "    for symbol in s:\n",
    "        if symbol not in string.punctuation:\n",
    "            clear_string += symbol\n",
    "    return clear_string\n",
    "\n",
    "for i in range(29820):\n",
    "    df['Text'][i] = clear_punctuation(df['Text'][i])"
   ]
  },
  {
   "cell_type": "code",
   "execution_count": 8,
   "metadata": {},
   "outputs": [
    {
     "data": {
      "text/plain": [
       "\"can't drink coffee mood tea hot chocolate time!\""
      ]
     },
     "execution_count": 8,
     "metadata": {},
     "output_type": "execute_result"
    }
   ],
   "source": [
    "df['Text'][1]"
   ]
  },
  {
   "cell_type": "code",
   "execution_count": 7,
   "metadata": {},
   "outputs": [],
   "source": [
    "df['upper'] =  df['text'].apply(lambda x: len([x for x in x.split() if x.isupper()]))"
   ]
  },
  {
   "cell_type": "code",
   "execution_count": 8,
   "metadata": {},
   "outputs": [],
   "source": [
    "df['text'] = df['text'].apply(lambda x: \" \".join(x.lower() for x in x.split()))"
   ]
  },
  {
   "cell_type": "code",
   "execution_count": 9,
   "metadata": {},
   "outputs": [],
   "source": [
    "df['Text'] = df['text'].apply(lambda x: \" \".join(x for x in x.split() if x not in stop))"
   ]
  },
  {
   "cell_type": "code",
   "execution_count": 10,
   "metadata": {},
   "outputs": [
    {
     "data": {
      "text/html": [
       "<div>\n",
       "<style scoped>\n",
       "    .dataframe tbody tr th:only-of-type {\n",
       "        vertical-align: middle;\n",
       "    }\n",
       "\n",
       "    .dataframe tbody tr th {\n",
       "        vertical-align: top;\n",
       "    }\n",
       "\n",
       "    .dataframe thead th {\n",
       "        text-align: right;\n",
       "    }\n",
       "</style>\n",
       "<table border=\"1\" class=\"dataframe\">\n",
       "  <thead>\n",
       "    <tr style=\"text-align: right;\">\n",
       "      <th></th>\n",
       "      <th>text</th>\n",
       "      <th>Category.cleaned</th>\n",
       "      <th>word_count</th>\n",
       "      <th>char_count</th>\n",
       "      <th>avg_word</th>\n",
       "      <th>upper</th>\n",
       "      <th>Text</th>\n",
       "    </tr>\n",
       "  </thead>\n",
       "  <tbody>\n",
       "    <tr>\n",
       "      <th>0</th>\n",
       "      <td>next thursday is hosting a . beer dinner! 5 de...</td>\n",
       "      <td>Food &amp; Drinks</td>\n",
       "      <td>19</td>\n",
       "      <td>108</td>\n",
       "      <td>5.294118</td>\n",
       "      <td>0</td>\n",
       "      <td>next thursday hosting . beer dinner! 5 delicio...</td>\n",
       "    </tr>\n",
       "    <tr>\n",
       "      <th>1</th>\n",
       "      <td>can't drink coffee and not in the mood for tea...</td>\n",
       "      <td>Food &amp; Drinks</td>\n",
       "      <td>16</td>\n",
       "      <td>75</td>\n",
       "      <td>4.000000</td>\n",
       "      <td>0</td>\n",
       "      <td>can't drink coffee mood tea hot chocolate time!</td>\n",
       "    </tr>\n",
       "    <tr>\n",
       "      <th>2</th>\n",
       "      <td>pero wala kpa na try nga nag inom asta maaga i...</td>\n",
       "      <td>Food &amp; Drinks</td>\n",
       "      <td>17</td>\n",
       "      <td>79</td>\n",
       "      <td>3.705882</td>\n",
       "      <td>0</td>\n",
       "      <td>pero wala kpa na try nga nag inom asta maaga i...</td>\n",
       "    </tr>\n",
       "    <tr>\n",
       "      <th>3</th>\n",
       "      <td>have you tried our chewy fudge or cream cheese...</td>\n",
       "      <td>Food &amp; Drinks</td>\n",
       "      <td>19</td>\n",
       "      <td>98</td>\n",
       "      <td>4.444444</td>\n",
       "      <td>0</td>\n",
       "      <td>tried chewy fudge cream cheese brownies? try t...</td>\n",
       "    </tr>\n",
       "    <tr>\n",
       "      <th>4</th>\n",
       "      <td>brownies</td>\n",
       "      <td>Food &amp; Drinks</td>\n",
       "      <td>3</td>\n",
       "      <td>10</td>\n",
       "      <td>8.000000</td>\n",
       "      <td>0</td>\n",
       "      <td>brownies</td>\n",
       "    </tr>\n",
       "  </tbody>\n",
       "</table>\n",
       "</div>"
      ],
      "text/plain": [
       "                                                text Category.cleaned  \\\n",
       "0  next thursday is hosting a . beer dinner! 5 de...    Food & Drinks   \n",
       "1  can't drink coffee and not in the mood for tea...    Food & Drinks   \n",
       "2  pero wala kpa na try nga nag inom asta maaga i...    Food & Drinks   \n",
       "3  have you tried our chewy fudge or cream cheese...    Food & Drinks   \n",
       "4                                           brownies    Food & Drinks   \n",
       "\n",
       "   word_count  char_count  avg_word  upper  \\\n",
       "0          19         108  5.294118      0   \n",
       "1          16          75  4.000000      0   \n",
       "2          17          79  3.705882      0   \n",
       "3          19          98  4.444444      0   \n",
       "4           3          10  8.000000      0   \n",
       "\n",
       "                                                Text  \n",
       "0  next thursday hosting . beer dinner! 5 delicio...  \n",
       "1    can't drink coffee mood tea hot chocolate time!  \n",
       "2  pero wala kpa na try nga nag inom asta maaga i...  \n",
       "3  tried chewy fudge cream cheese brownies? try t...  \n",
       "4                                           brownies  "
      ]
     },
     "execution_count": 10,
     "metadata": {},
     "output_type": "execute_result"
    }
   ],
   "source": [
    "df.head()"
   ]
  },
  {
   "cell_type": "code",
   "execution_count": 15,
   "metadata": {},
   "outputs": [],
   "source": [
    "#tokenizing the sentences\n",
    "df['tokenize_sent'] = df.apply(lambda row: nltk.word_tokenize(row['Text']), axis = 1)"
   ]
  },
  {
   "cell_type": "code",
   "execution_count": 16,
   "metadata": {},
   "outputs": [
    {
     "data": {
      "text/html": [
       "<div>\n",
       "<style scoped>\n",
       "    .dataframe tbody tr th:only-of-type {\n",
       "        vertical-align: middle;\n",
       "    }\n",
       "\n",
       "    .dataframe tbody tr th {\n",
       "        vertical-align: top;\n",
       "    }\n",
       "\n",
       "    .dataframe thead th {\n",
       "        text-align: right;\n",
       "    }\n",
       "</style>\n",
       "<table border=\"1\" class=\"dataframe\">\n",
       "  <thead>\n",
       "    <tr style=\"text-align: right;\">\n",
       "      <th></th>\n",
       "      <th>text</th>\n",
       "      <th>Category.cleaned</th>\n",
       "      <th>word_count</th>\n",
       "      <th>char_count</th>\n",
       "      <th>avg_word</th>\n",
       "      <th>upper</th>\n",
       "      <th>Text</th>\n",
       "      <th>tokenize_sent</th>\n",
       "    </tr>\n",
       "  </thead>\n",
       "  <tbody>\n",
       "    <tr>\n",
       "      <th>0</th>\n",
       "      <td>next thursday is hosting a . beer dinner! 5 de...</td>\n",
       "      <td>Food &amp; Drinks</td>\n",
       "      <td>19</td>\n",
       "      <td>108</td>\n",
       "      <td>5.294118</td>\n",
       "      <td>0</td>\n",
       "      <td>next thursday hosting . beer dinner! 5 delicio...</td>\n",
       "      <td>[next, thursday, hosting, ., beer, dinner, !, ...</td>\n",
       "    </tr>\n",
       "    <tr>\n",
       "      <th>1</th>\n",
       "      <td>can't drink coffee and not in the mood for tea...</td>\n",
       "      <td>Food &amp; Drinks</td>\n",
       "      <td>16</td>\n",
       "      <td>75</td>\n",
       "      <td>4.000000</td>\n",
       "      <td>0</td>\n",
       "      <td>can't drink coffee mood tea hot chocolate time!</td>\n",
       "      <td>[ca, n't, drink, coffee, mood, tea, hot, choco...</td>\n",
       "    </tr>\n",
       "    <tr>\n",
       "      <th>2</th>\n",
       "      <td>pero wala kpa na try nga nag inom asta maaga i...</td>\n",
       "      <td>Food &amp; Drinks</td>\n",
       "      <td>17</td>\n",
       "      <td>79</td>\n",
       "      <td>3.705882</td>\n",
       "      <td>0</td>\n",
       "      <td>pero wala kpa na try nga nag inom asta maaga i...</td>\n",
       "      <td>[pero, wala, kpa, na, try, nga, nag, inom, ast...</td>\n",
       "    </tr>\n",
       "    <tr>\n",
       "      <th>3</th>\n",
       "      <td>have you tried our chewy fudge or cream cheese...</td>\n",
       "      <td>Food &amp; Drinks</td>\n",
       "      <td>19</td>\n",
       "      <td>98</td>\n",
       "      <td>4.444444</td>\n",
       "      <td>0</td>\n",
       "      <td>tried chewy fudge cream cheese brownies? try t...</td>\n",
       "      <td>[tried, chewy, fudge, cream, cheese, brownies,...</td>\n",
       "    </tr>\n",
       "    <tr>\n",
       "      <th>4</th>\n",
       "      <td>brownies</td>\n",
       "      <td>Food &amp; Drinks</td>\n",
       "      <td>3</td>\n",
       "      <td>10</td>\n",
       "      <td>8.000000</td>\n",
       "      <td>0</td>\n",
       "      <td>brownies</td>\n",
       "      <td>[brownies]</td>\n",
       "    </tr>\n",
       "  </tbody>\n",
       "</table>\n",
       "</div>"
      ],
      "text/plain": [
       "                                                text Category.cleaned  \\\n",
       "0  next thursday is hosting a . beer dinner! 5 de...    Food & Drinks   \n",
       "1  can't drink coffee and not in the mood for tea...    Food & Drinks   \n",
       "2  pero wala kpa na try nga nag inom asta maaga i...    Food & Drinks   \n",
       "3  have you tried our chewy fudge or cream cheese...    Food & Drinks   \n",
       "4                                           brownies    Food & Drinks   \n",
       "\n",
       "   word_count  char_count  avg_word  upper  \\\n",
       "0          19         108  5.294118      0   \n",
       "1          16          75  4.000000      0   \n",
       "2          17          79  3.705882      0   \n",
       "3          19          98  4.444444      0   \n",
       "4           3          10  8.000000      0   \n",
       "\n",
       "                                                Text  \\\n",
       "0  next thursday hosting . beer dinner! 5 delicio...   \n",
       "1    can't drink coffee mood tea hot chocolate time!   \n",
       "2  pero wala kpa na try nga nag inom asta maaga i...   \n",
       "3  tried chewy fudge cream cheese brownies? try t...   \n",
       "4                                           brownies   \n",
       "\n",
       "                                       tokenize_sent  \n",
       "0  [next, thursday, hosting, ., beer, dinner, !, ...  \n",
       "1  [ca, n't, drink, coffee, mood, tea, hot, choco...  \n",
       "2  [pero, wala, kpa, na, try, nga, nag, inom, ast...  \n",
       "3  [tried, chewy, fudge, cream, cheese, brownies,...  \n",
       "4                                         [brownies]  "
      ]
     },
     "execution_count": 16,
     "metadata": {},
     "output_type": "execute_result"
    }
   ],
   "source": [
    "df.head()"
   ]
  },
  {
   "cell_type": "code",
   "execution_count": 17,
   "metadata": {},
   "outputs": [],
   "source": [
    "#stemming\n",
    "from nltk.stem import PorterStemmer\n",
    "st = PorterStemmer()\n",
    "df['tokenize_sent'] = df['tokenize_sent'].apply(lambda x:[st.stem(y) for y in x] )"
   ]
  },
  {
   "cell_type": "code",
   "execution_count": 18,
   "metadata": {},
   "outputs": [
    {
     "data": {
      "text/html": [
       "<div>\n",
       "<style scoped>\n",
       "    .dataframe tbody tr th:only-of-type {\n",
       "        vertical-align: middle;\n",
       "    }\n",
       "\n",
       "    .dataframe tbody tr th {\n",
       "        vertical-align: top;\n",
       "    }\n",
       "\n",
       "    .dataframe thead th {\n",
       "        text-align: right;\n",
       "    }\n",
       "</style>\n",
       "<table border=\"1\" class=\"dataframe\">\n",
       "  <thead>\n",
       "    <tr style=\"text-align: right;\">\n",
       "      <th></th>\n",
       "      <th>text</th>\n",
       "      <th>Category.cleaned</th>\n",
       "      <th>word_count</th>\n",
       "      <th>char_count</th>\n",
       "      <th>avg_word</th>\n",
       "      <th>upper</th>\n",
       "      <th>Text</th>\n",
       "      <th>tokenize_sent</th>\n",
       "    </tr>\n",
       "  </thead>\n",
       "  <tbody>\n",
       "    <tr>\n",
       "      <th>0</th>\n",
       "      <td>next thursday is hosting a . beer dinner! 5 de...</td>\n",
       "      <td>Food &amp; Drinks</td>\n",
       "      <td>19</td>\n",
       "      <td>108</td>\n",
       "      <td>5.294118</td>\n",
       "      <td>0</td>\n",
       "      <td>next thursday hosting . beer dinner! 5 delicio...</td>\n",
       "      <td>[next, thursday, host, ., beer, dinner, !, 5, ...</td>\n",
       "    </tr>\n",
       "    <tr>\n",
       "      <th>1</th>\n",
       "      <td>can't drink coffee and not in the mood for tea...</td>\n",
       "      <td>Food &amp; Drinks</td>\n",
       "      <td>16</td>\n",
       "      <td>75</td>\n",
       "      <td>4.000000</td>\n",
       "      <td>0</td>\n",
       "      <td>can't drink coffee mood tea hot chocolate time!</td>\n",
       "      <td>[ca, n't, drink, coffe, mood, tea, hot, chocol...</td>\n",
       "    </tr>\n",
       "    <tr>\n",
       "      <th>2</th>\n",
       "      <td>pero wala kpa na try nga nag inom asta maaga i...</td>\n",
       "      <td>Food &amp; Drinks</td>\n",
       "      <td>17</td>\n",
       "      <td>79</td>\n",
       "      <td>3.705882</td>\n",
       "      <td>0</td>\n",
       "      <td>pero wala kpa na try nga nag inom asta maaga i...</td>\n",
       "      <td>[pero, wala, kpa, na, tri, nga, nag, inom, ast...</td>\n",
       "    </tr>\n",
       "    <tr>\n",
       "      <th>3</th>\n",
       "      <td>have you tried our chewy fudge or cream cheese...</td>\n",
       "      <td>Food &amp; Drinks</td>\n",
       "      <td>19</td>\n",
       "      <td>98</td>\n",
       "      <td>4.444444</td>\n",
       "      <td>0</td>\n",
       "      <td>tried chewy fudge cream cheese brownies? try t...</td>\n",
       "      <td>[tri, chewi, fudg, cream, chees, browni, ?, tr...</td>\n",
       "    </tr>\n",
       "    <tr>\n",
       "      <th>4</th>\n",
       "      <td>brownies</td>\n",
       "      <td>Food &amp; Drinks</td>\n",
       "      <td>3</td>\n",
       "      <td>10</td>\n",
       "      <td>8.000000</td>\n",
       "      <td>0</td>\n",
       "      <td>brownies</td>\n",
       "      <td>[browni]</td>\n",
       "    </tr>\n",
       "  </tbody>\n",
       "</table>\n",
       "</div>"
      ],
      "text/plain": [
       "                                                text Category.cleaned  \\\n",
       "0  next thursday is hosting a . beer dinner! 5 de...    Food & Drinks   \n",
       "1  can't drink coffee and not in the mood for tea...    Food & Drinks   \n",
       "2  pero wala kpa na try nga nag inom asta maaga i...    Food & Drinks   \n",
       "3  have you tried our chewy fudge or cream cheese...    Food & Drinks   \n",
       "4                                           brownies    Food & Drinks   \n",
       "\n",
       "   word_count  char_count  avg_word  upper  \\\n",
       "0          19         108  5.294118      0   \n",
       "1          16          75  4.000000      0   \n",
       "2          17          79  3.705882      0   \n",
       "3          19          98  4.444444      0   \n",
       "4           3          10  8.000000      0   \n",
       "\n",
       "                                                Text  \\\n",
       "0  next thursday hosting . beer dinner! 5 delicio...   \n",
       "1    can't drink coffee mood tea hot chocolate time!   \n",
       "2  pero wala kpa na try nga nag inom asta maaga i...   \n",
       "3  tried chewy fudge cream cheese brownies? try t...   \n",
       "4                                           brownies   \n",
       "\n",
       "                                       tokenize_sent  \n",
       "0  [next, thursday, host, ., beer, dinner, !, 5, ...  \n",
       "1  [ca, n't, drink, coffe, mood, tea, hot, chocol...  \n",
       "2  [pero, wala, kpa, na, tri, nga, nag, inom, ast...  \n",
       "3  [tri, chewi, fudg, cream, chees, browni, ?, tr...  \n",
       "4                                           [browni]  "
      ]
     },
     "execution_count": 18,
     "metadata": {},
     "output_type": "execute_result"
    }
   ],
   "source": [
    "df.head()"
   ]
  },
  {
   "cell_type": "code",
   "execution_count": 19,
   "metadata": {},
   "outputs": [
    {
     "name": "stdout",
     "output_type": "stream",
     "text": [
      "(29821, 40973)\n"
     ]
    },
    {
     "data": {
      "text/plain": [
       "(29821, 8)"
      ]
     },
     "execution_count": 19,
     "metadata": {},
     "output_type": "execute_result"
    }
   ],
   "source": [
    "#tfidf\n",
    "\n",
    "import sklearn\n",
    "from sklearn.feature_extraction.text import TfidfVectorizer\n",
    "tfidf_vectorizer = TfidfVectorizer()\n",
    "tfidf_matrix = tfidf_vectorizer.fit_transform(df['Text'])\n",
    "print(tfidf_matrix.shape)\n",
    "df.shape"
   ]
  },
  {
   "cell_type": "code",
   "execution_count": 20,
   "metadata": {},
   "outputs": [
    {
     "data": {
      "text/plain": [
       "array([[0., 0., 0., 0., 0., 0., 0., 0., 0., 0., 0., 0., 0., 0., 0., 0.,\n",
       "        0., 0., 0., 0., 0., 0., 0., 0., 0., 0., 0., 0., 0., 0., 0., 0.,\n",
       "        0., 0., 0., 0., 0., 0., 0., 0., 0., 0., 0., 0., 0., 0., 0., 0.,\n",
       "        0., 0., 0., 0., 0., 0., 0., 0., 0., 0., 0., 0., 0., 0., 0., 0.,\n",
       "        0., 0., 0., 0., 0., 0., 0., 0., 0., 0., 0., 0., 0., 0., 0., 0.,\n",
       "        0., 0., 0., 0., 0., 0., 0., 0., 0., 0., 0., 0., 0., 0., 0., 0.,\n",
       "        0., 0., 0., 0.]])"
      ]
     },
     "execution_count": 20,
     "metadata": {},
     "output_type": "execute_result"
    }
   ],
   "source": [
    "#cosine similarity between the tfidf vectors\n",
    "from sklearn.metrics.pairwise import cosine_similarity\n",
    "cosine_similarity(tfidf_matrix[0:1], tfidf_matrix[29721:29821])\n"
   ]
  },
  {
   "cell_type": "code",
   "execution_count": 9,
   "metadata": {},
   "outputs": [],
   "source": [
    "#loading glove model\n",
    "import numpy as np\n",
    "def loadGloveModel(gloveFile):\n",
    "    print(\"Loading Glove Model\")\n",
    "    f = open(gloveFile,'r')\n",
    "    model = {}\n",
    "    for line in f:\n",
    "        splitLine = line.split()\n",
    "        word = splitLine[0]\n",
    "        embedding = np.array([float(val) for val in splitLine[1:]])\n",
    "        model[word] = embedding\n",
    "    print (\"Done\",len(model),\" words loaded!\")\n",
    "    return model"
   ]
  },
  {
   "cell_type": "code",
   "execution_count": 10,
   "metadata": {},
   "outputs": [
    {
     "name": "stdout",
     "output_type": "stream",
     "text": [
      "Loading Glove Model\n",
      "Done 1193514  words loaded!\n"
     ]
    }
   ],
   "source": [
    "embedding_matrix = loadGloveModel('glove.twitter.27B.200d.txt')\n"
   ]
  },
  {
   "cell_type": "code",
   "execution_count": 7,
   "metadata": {},
   "outputs": [],
   "source": [
    "import numpy as np\n",
    "#defining length of string count function\n",
    "def word_count(string):\n",
    "    tokens = string.split()\n",
    "    n_tokens = len(tokens)\n",
    "    n_tokens = float(n_tokens)\n",
    "    return n_tokens\n",
    "\n",
    "#defining the function to calculate embedding vector for a sentence\n",
    "def text2vec(sentence):\n",
    "    for words in sentence.split():\n",
    "        embedding_vector = np.zeros((200,1),dtype=np.float64)\n",
    "        embedding_vector += np.reshape(embedding_matrix[words], (200,1))\n",
    "    average_embedding_matrix = embedding_vector/word_count(sentence)\n",
    "    return average_embedding_matrix\n",
    "            "
   ]
  },
  {
   "cell_type": "code",
   "execution_count": 68,
   "metadata": {},
   "outputs": [
    {
     "data": {
      "text/plain": [
       "0.8672515612841923"
      ]
     },
     "execution_count": 68,
     "metadata": {},
     "output_type": "execute_result"
    }
   ],
   "source": [
    "#Cosine Similarity between the two numpy arrays\n",
    "def cos_sim(a,b):\n",
    "    dot_product = np.sum(np.multiply(a,b))\n",
    "    norm_a = np.linalg.norm(a)\n",
    "    norm_b = np.linalg.norm(b)\n",
    "    return dot_product/(norm_a * norm_b)\n",
    "    \n",
    "\n",
    "\n"
   ]
  },
  {
   "cell_type": "code",
   "execution_count": 73,
   "metadata": {},
   "outputs": [
    {
     "data": {
      "text/plain": [
       "0.7872158332335074"
      ]
     },
     "execution_count": 73,
     "metadata": {},
     "output_type": "execute_result"
    }
   ],
   "source": [
    "vec_1 = text2vec('good at dancing')\n",
    "vec_2 = text2vec('best at singing')\n",
    "cos_sim(vec_1, vec_2)"
   ]
  },
  {
   "cell_type": "code",
   "execution_count": 74,
   "metadata": {},
   "outputs": [
    {
     "data": {
      "text/html": [
       "<div>\n",
       "<style scoped>\n",
       "    .dataframe tbody tr th:only-of-type {\n",
       "        vertical-align: middle;\n",
       "    }\n",
       "\n",
       "    .dataframe tbody tr th {\n",
       "        vertical-align: top;\n",
       "    }\n",
       "\n",
       "    .dataframe thead th {\n",
       "        text-align: right;\n",
       "    }\n",
       "</style>\n",
       "<table border=\"1\" class=\"dataframe\">\n",
       "  <thead>\n",
       "    <tr style=\"text-align: right;\">\n",
       "      <th></th>\n",
       "      <th>word_count</th>\n",
       "      <th>char_count</th>\n",
       "      <th>avg_word</th>\n",
       "    </tr>\n",
       "  </thead>\n",
       "  <tbody>\n",
       "    <tr>\n",
       "      <th>count</th>\n",
       "      <td>29821.000000</td>\n",
       "      <td>29821.000000</td>\n",
       "      <td>29821.000000</td>\n",
       "    </tr>\n",
       "    <tr>\n",
       "      <th>mean</th>\n",
       "      <td>15.602964</td>\n",
       "      <td>84.110593</td>\n",
       "      <td>5.255677</td>\n",
       "    </tr>\n",
       "    <tr>\n",
       "      <th>std</th>\n",
       "      <td>6.858704</td>\n",
       "      <td>37.490362</td>\n",
       "      <td>4.799458</td>\n",
       "    </tr>\n",
       "    <tr>\n",
       "      <th>min</th>\n",
       "      <td>1.000000</td>\n",
       "      <td>5.000000</td>\n",
       "      <td>1.909091</td>\n",
       "    </tr>\n",
       "    <tr>\n",
       "      <th>25%</th>\n",
       "      <td>11.000000</td>\n",
       "      <td>58.000000</td>\n",
       "      <td>4.222222</td>\n",
       "    </tr>\n",
       "    <tr>\n",
       "      <th>50%</th>\n",
       "      <td>15.000000</td>\n",
       "      <td>85.000000</td>\n",
       "      <td>4.722222</td>\n",
       "    </tr>\n",
       "    <tr>\n",
       "      <th>75%</th>\n",
       "      <td>20.000000</td>\n",
       "      <td>109.000000</td>\n",
       "      <td>5.473684</td>\n",
       "    </tr>\n",
       "    <tr>\n",
       "      <th>max</th>\n",
       "      <td>140.000000</td>\n",
       "      <td>801.000000</td>\n",
       "      <td>123.000000</td>\n",
       "    </tr>\n",
       "  </tbody>\n",
       "</table>\n",
       "</div>"
      ],
      "text/plain": [
       "         word_count    char_count      avg_word\n",
       "count  29821.000000  29821.000000  29821.000000\n",
       "mean      15.602964     84.110593      5.255677\n",
       "std        6.858704     37.490362      4.799458\n",
       "min        1.000000      5.000000      1.909091\n",
       "25%       11.000000     58.000000      4.222222\n",
       "50%       15.000000     85.000000      4.722222\n",
       "75%       20.000000    109.000000      5.473684\n",
       "max      140.000000    801.000000    123.000000"
      ]
     },
     "execution_count": 74,
     "metadata": {},
     "output_type": "execute_result"
    }
   ],
   "source": [
    "df.describe()"
   ]
  },
  {
   "cell_type": "code",
   "execution_count": null,
   "metadata": {},
   "outputs": [],
   "source": []
  }
 ],
 "metadata": {
  "kernelspec": {
   "display_name": "Python 3",
   "language": "python",
   "name": "python3"
  },
  "language_info": {
   "codemirror_mode": {
    "name": "ipython",
    "version": 3
   },
   "file_extension": ".py",
   "mimetype": "text/x-python",
   "name": "python",
   "nbconvert_exporter": "python",
   "pygments_lexer": "ipython3",
   "version": "3.6.4"
  }
 },
 "nbformat": 4,
 "nbformat_minor": 2
}
